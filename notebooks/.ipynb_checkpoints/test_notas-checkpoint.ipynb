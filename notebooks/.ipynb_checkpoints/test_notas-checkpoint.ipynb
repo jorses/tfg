{
 "cells": [
  {
   "cell_type": "code",
   "execution_count": 14,
   "metadata": {},
   "outputs": [],
   "source": [
    "import pandas as pd\n",
    "import matplotlib.pyplot as plt\n",
    "import random\n",
    "import operator\n",
    "from matplotlib.backends.backend_pdf import PdfPages\n",
    "import matplotlib.patches as mpatches\n",
    "import matplotlib.pyplot as plt\n",
    "import numpy as np\n",
    "import json\n",
    "\n",
    "%matplotlib inline\n",
    "df = pd.read_csv(\"./data/notas_merged.csv\")\n",
    "\n",
    "del df[\"NUMORD\"]\n",
    "del df[\"SUBTIPO\"]\n",
    "del df[\"CENTRO\"]\n",
    "del df[\"PLAN\"]\n",
    "del df[\"NOTA_BASE_4\"]\n",
    "categorical_columns = [\"CURSO\",\"ANOCON\",\"MUNICIPIO\",\"PROVINCIA\",\"DESPLAN\",\"GENERO\"]\n",
    "\n",
    "COLORS = [\"red\",\"blue\",\"yellow\",\"pink\",\"purple\",\"green\"]\n",
    "DESCRIPTIONS = {\n",
    "    \"CURSO\": [\"There are \", \" students from the year \"],\n",
    "    \"ANOCON\": [\"There are \", \" students who graduated in \"],\n",
    "    \"MUNICIPIO\": [\"There are \", \" students from the municipality of\"],\n",
    "    \"PROVINCIA\": [\"There are \", \" students from the province of \"],\n",
    "    \"DESPLAN\": [\"There are \", \"students of the plan \"],\n",
    "    \"GENERO\": [\"The are \", \" students of gender \"]\n",
    "}\n",
    "\n",
    "def write_pdf(fname, figures):\n",
    "    doc = PdfPages(fname)\n",
    "    for fig in figures:\n",
    "        print(type(fig))\n",
    "        fig.savefig(doc, dpi=\"figure\",format='pdf')\n",
    "    doc.close()\n",
    "    \n",
    "category_counts = {}\n",
    "for c in categorical_columns:\n",
    "    df[c] = df[c].astype(\"category\")\n",
    "    category_counts[c] = dict(df[c].value_counts() )\n",
    "\n",
    "df = df.sort_values(\"CURSO\")"
   ]
  },
  {
   "cell_type": "code",
   "execution_count": 15,
   "metadata": {},
   "outputs": [],
   "source": [
    "#At this point we have  df, category_counts\n",
    "def get_most_frequents(category_counts):\n",
    "    \"\"\" Generates most frequent dictionary \"\"\"\n",
    "    category_counts_most_frequent = {}\n",
    "    for c in category_counts:\n",
    "        max_cat = max(category_counts[c].items(), key=operator.itemgetter(1))[0]\n",
    "        print(max_cat)\n",
    "        category_counts_most_frequent[c] = {\n",
    "                max_cat : category_counts[c][max_cat]\n",
    "        }\n",
    "    return category_counts_most_frequent\n",
    "    \n",
    "\n",
    "# + add title\n",
    "def generate_grade_plot(X, title=None):\n",
    "    fig_info = {}\n",
    "    if title:\n",
    "        fig_info[\"legend\"]=title\n",
    "    fig_info[\"arg\"] = X[\"NOTA_BASE_10\"]\n",
    "    fig_info[\"color\"] = random.choice(COLORS)\n",
    "    return fig_info\n",
    "\n",
    "def generate_grade_plots_2(X,c):\n",
    "    \"\"\"Generates grade plot for all categories in c\"\"\"\n",
    "    plots = {}\n",
    "    for cat in category_counts[c]:\n",
    "        X_aux = X[X[c] == cat]\n",
    "        plots[cat] = generate_grade_plot(X_aux)\n",
    "    return plots\n",
    "\n",
    "def generate_grade_plots(X):\n",
    "    \"\"\"Generates grade plot for all categorical cols in X\"\"\"\n",
    "    plots = {}\n",
    "    for c in categorical_columns:\n",
    "        plots[c] = generate_grade_plots_2(X,c)\n",
    "    return plots\n",
    "\n",
    "def generate_category_count_pie(c,title=None):\n",
    "    \"\"\"Generates pie \"\"\"\n",
    "    p = {}\n",
    "    p[\"title\"] = title\n",
    "    p[\"arg\"] = [v for v in category_counts[c].values()]\n",
    "    p[\"labels\"] = [k for k in category_counts[c].keys()]\n",
    "    p[\"colors\"]=[random.choice(COLORS) for c in range(0,2)]\n",
    "    return p\n",
    "\n",
    "def generate_category_count_bar(c):\n",
    "    fig = plt.figure()\n",
    "    plt.bar(range(len(category_counts[c])), list(category_counts[c].values()), align='center',color=random.choice(COLORS))\n",
    "    plt.xticks(range(len(category_counts[c])), list(category_counts[c].keys()))\n",
    "    return fig\n",
    "\n",
    "def generate_category_counts_bar():\n",
    "    plots = {}\n",
    "    for c in categorical_columns:\n",
    "        plots[c] = generate_category_count_pie(c)\n",
    "    return plots\n",
    " \n",
    "def generate_description(category_counts):\n",
    "    report = \"\"\n",
    "    for c in categorical_columns:\n",
    "        for cat in category_counts[c]:\n",
    "            report += DESCRIPTIONS[c][0] + str(category_counts[c][cat]) + DESCRIPTIONS[c][1] + str(cat) +\". \"\n",
    "    return report"
   ]
  },
  {
   "cell_type": "code",
   "execution_count": 32,
   "metadata": {},
   "outputs": [],
   "source": [
    "# for student and teacher, generate the \"course\" input vs the total. In case of the student, inform him of which grade was his\n",
    "def generate_student_report(profile, X):\n",
    "    plots = {}\n",
    "    c =  \"CURSO\"\n",
    "    course = profile[\"curso\"]\n",
    "    \n",
    "    X_course = X[X[c] == course]\n",
    "    X_other = X[X[c] != course]\n",
    "    \n",
    "    plots_gradecmp_courses= [generate_grade_plot(X_course,\"\")]*4\n",
    "    plots_gradecmp_all = [generate_grade_plot(X_other)]*4\n",
    "    plots_dist_all = [generate_category_count_pie(c)]*4\n",
    "    \n",
    "    dn1 = \"Your grade is \" + profile[\"nota\"] + \". The median grade of your course is \" + str(np.median(X_course[\"NOTA_BASE_10\"])) + \" The median grade for other courses is around\" + str(np.median(X_other[\"NOTA_BASE_10\"]))\n",
    "    dn2 =  \"Your grade is \" + profile[\"nota\"] + \". The median grade of your course is \" + str(np.median(X_course[\"NOTA_BASE_10\"]))\n",
    "    dn3 = \"Your grade is \" + profile[\"nota\"] \n",
    "    dn4 = \"The median grade of your course is \" + str(np.median(X_course[\"NOTA_BASE_10\"])) + \" The median grade for other courses is around\" + str(np.median(X_other[\"NOTA_BASE_10\"]))\n",
    "    # optionally \n",
    "    return [random.choice(plots_gradecmp_courses), random.choice(plots_gradecmp_all), random.choice(plots_dist_all)]\n",
    "    \n",
    "def generate_teacher_report(profile, X): \n",
    "    plots = {}\n",
    "    c =  \"CURSO\"\n",
    "    course = profile[\"curso\"]\n",
    "    \n",
    "    X_course = X[X[c] == course]\n",
    "    X_other = X[X[c] != course]\n",
    "    \n",
    "    plots_gradecmp_courses= [generate_grade_plot(X_course,\"your course's grade distribution\")] * 4\n",
    "    plots_gradecmp_all = [generate_grade_plot(X_other),\"all courses grade distlribution\" ] * 4\n",
    "    plots_dist_all = [generate_category_count_pie(c)] * 4\n",
    "    \n",
    "    dn1 = \"The median grade of your course is \" + str(np.median(X_course[\"NOTA_BASE_10\"])) + \" The median grade for other courses is around\" + str(np.median(X_other[\"NOTA_BASE_10\"]))\n",
    "    dn2 =  \"The median grade of your course is \" + str(np.median(X_course[\"NOTA_BASE_10\"]))\n",
    "    dn4 = \"The median grade of your course is \" + str(np.median(X_course[\"NOTA_BASE_10\"])) + \" The median grade for other courses is around\" + str(np.median(X_other[\"NOTA_BASE_10\"]))\n",
    "    # optionally \n",
    "    return [random.choice(plots_gradecmp_courses), random.choice(plots_gradecmp_all), random.choice(plots_dist_all)]\n",
    "\n",
    "def generate_delegate_report(profile, X):\n",
    "    plots = {}\n",
    "    \n",
    "    X_h = X[X[\"GENERO\"] == \"H\"]\n",
    "    X_m = X[X[\"GENERO\"] != \"H\"]\n",
    "    \n",
    "    dn1 = \"The median grade of the female students is\" + str(np.median(X_m[\"NOTA_BASE_10\"])) + \".\\n The median grade for male students is \" + str(np.median(X_h[\"NOTA_BASE_10\"])) + \".\"\n",
    "    dn2 =  \"The median grade of the female students is\" + str(np.median(X_m[\"NOTA_BASE_10\"]))\n",
    "    dn3 = \" The median grade for male students is \" + str(np.median(X_h[\"NOTA_BASE_10\"]))\n",
    "    \n",
    "    plots_gradecmp_female= [generate_grade_plot(X_m, \"female\") for i in range(0,4)]\n",
    "    plots_gradecmp_male = [generate_grade_plot(X_h, \"male\") for i in range (0,4)] \n",
    "    plots_dist_all = [generate_category_count_pie(\"GENERO\", \"Gender distribution\") for i in range(0,4 )]\n",
    "    \n",
    "    # optionally \n",
    "    return [plots_gradecmp_female, plots_gradecmp_male, plots_dist_all]\n"
   ]
  },
  {
   "cell_type": "code",
   "execution_count": 17,
   "metadata": {},
   "outputs": [],
   "source": [
    "student_profile = {\n",
    "    \"age\": 20,\n",
    "    \"class\": \"student\",\n",
    "    \"gender\": \"female\",\n",
    "    \"nota\": \"7.5\",\n",
    "    \"description\": \"wants to know how its own grade (given) compares to the rest of the students in its course (given)\",\n",
    "    \"curso\": \"2003-04\"\n",
    "}\n",
    "teacher_profile = {\n",
    "    \"age\": 48,\n",
    "    \"class\": \"teacher\",\n",
    "    \"gender\": \"female\",\n",
    "    \"description\": \"\",\n",
    "    \"curso\": \"2003-04\"\n",
    "}\n",
    "gender_delegate = {\n",
    "    \"age\": 38,\n",
    "    \"class\": \"manager\",\n",
    "    \"description\": \"wants to know how students of different gender have been performing over the years\",\n",
    "    \"gender\": \"male\"\n",
    "}"
   ]
  },
  {
   "cell_type": "code",
   "execution_count": 36,
   "metadata": {},
   "outputs": [],
   "source": [
    "def generate_grade_plot(X, title=None):\n",
    "    fig_info = {}\n",
    "    fig_info[\"title\"]=title\n",
    "    fig_info[\"arg\"] = X[\"NOTA_BASE_10\"]\n",
    "    fig_info[\"color\"] = random.choice(COLORS)\n",
    "    fig_info[\"legend\"] = title\n",
    "    return fig_info\n",
    "\n",
    "def generate_category_count_pie(c,title=None):\n",
    "    \"\"\"Generates pie \"\"\"\n",
    "    p = {}\n",
    "    p[\"title\"] = title\n",
    "    p[\"arg\"] = [v for v in category_counts[c].values()]\n",
    "    p[\"labels\"] = [k for k in category_counts[c].keys()]\n",
    "    p[\"colors\"] = [random.choice(COLORS) for c in range(0,2)]\n",
    "    return p\n",
    "\n",
    "def givemefigures(hist , pie, mode):\n",
    "    #fig = plt.figure()\n",
    "    #plt.title(hist.title + pie.title)\n",
    "    if mode == \"histpie\":\n",
    "        fig, (ax1, ax2) = plt.subplots(1, 2)\n",
    "        plt.title(hist[\"title\"]+pie[\"title\"])\n",
    "        ax1.hist(hist[\"arg\"],color=hist[\"color\"])\n",
    "        red_patch = mpatches.Patch(facecolor=\"white\",edgecolor=\"white\",color=hist[\"color\"], label=hist[\"legend\"])\n",
    "        ax1.legend(handles=[red_patch])\n",
    "        ax2.pie(pie[\"arg\"],labels=pie[\"labels\"],autopct=None,colors=pie[\"colors\"])\n",
    "    elif mode == \"histhist\":\n",
    "        fig, (ax1, ax2) = plt.subplots(1, 2)\n",
    "        plt.title(hist[\"title\"]+pie[\"title\"])\n",
    "        ax1.hist(hist[\"arg\"],color=hist[\"color\"])\n",
    "        red_patch = mpatches.Patch(facecolor=\"white\",edgecolor=\"white\",color=hist[\"color\"], label=hist[\"legend\"])\n",
    "        ax1.legend(handles=[red_patch])\n",
    "        ax2.hist(pie[\"arg\"],color=pie[\"color\"])\n",
    "        blue_patch = mpatches.Patch(facecolor=\"white\",edgecolor=\"white\",color=pie[\"color\"], label=pie[\"legend\"])\n",
    "        ax2.legend(handles=[blue_patch])\n",
    "\n",
    "    return fig\n",
    "\n",
    "repo_delegate = generate_delegate_report(gender_delegate, df)\n",
    "#givemefigures(repo_delegate[0][0],repo_delegate[2][0])\n",
    "\n",
    "def create_10_reports(repo_someone):\n",
    "    #pair each with one of the others\n",
    "    chosen_ones = []\n",
    "    for j in range(0,len(repo_someone[1])):\n",
    "       chosen_ones.append((repo_someone[1][j], random.choice(repo_someone[2]),\"histpie\"))\n",
    "    for i in range(0,len(repo_someone[0])):\n",
    "        chosen_ones.append((repo_someone[0][i], random.choice(repo_someone[2]),\"histpie\"))\n",
    "        chosen_ones.append((repo_someone[0][i], random.choice(repo_someone[1]),\"histhist\"))\n",
    "\n",
    "        #chosen_ones.append((repo_someone[0][i], random.choice(repo_someone[1])))\n",
    "\n",
    "        \n",
    "    return chosen_ones\n",
    "a = create_10_reports(repo_delegate)                             "
   ]
  },
  {
   "cell_type": "code",
   "execution_count": 38,
   "metadata": {},
   "outputs": [
    {
     "name": "stderr",
     "output_type": "stream",
     "text": [
      "/Users/brick/anaconda3/lib/python3.6/site-packages/matplotlib/patches.py:121: UserWarning: Setting the 'color' property will overridethe edgecolor or facecolor properties. \n",
      "  warnings.warn(\"Setting the 'color' property will override\"\n"
     ]
    }
   ],
   "source": [
    "def write_png(figures):\n",
    "    i=0;\n",
    "    for fig in figures:\n",
    "        fig.savefig(str(i)+\".png\")\n",
    "        plt.close(fig)\n",
    "        i+=1\n",
    "\n",
    "repo_delegate = generate_delegate_report(gender_delegate, df)\n",
    "\n",
    "a = create_10_reports(repo_delegate)\n",
    "reports = [] \n",
    "\n",
    "for i in range(0,len(a)):\n",
    "   reports.append(givemefigures(a[i][0],a[i][1],a[i][2]))\n",
    "#for f in report:\n",
    "#    print(f.dpi)\n",
    "# take axe \n",
    "write_png(reports)"
   ]
  },
  {
   "cell_type": "code",
   "execution_count": 169,
   "metadata": {},
   "outputs": [],
   "source": [
    "displayed = {} \n",
    "#dictionnary with keys range 0 to 9 and values all numbers from 0 to nine removin i\n",
    "tourney_scorer = dict([(i,list(range(0,i))) for i in range(1,9)])\n",
    "next_index = 1\n",
    "def pick_one(i):\n",
    "    results[str(displayed[str(i)])] = float(results[str(displayed[str(i)])]) + 1\n",
    "    with open('result.json', 'w') as fp:\n",
    "        json.dump(results, fp)\n",
    "def load_2():\n",
    "    global next_index\n",
    "    if len(tourney_scorer[next_index]) == 0:\n",
    "        next_index += 1\n",
    "    if len(tourney_scorer[next_index]) >= 2:\n",
    "        first = tourney_scorer[next_index][0]\n",
    "        second = tourney_scorer[next_index][1]\n",
    "        tourney_scorer[next_index].remove(first)\n",
    "        tourney_scorer[next_index].remove(second)\n",
    "    if len(tourney_scorer[next_index]) == 1:\n",
    "        first = tourney_scorer[next_index][0]\n",
    "        tourney_scorer[next_index].remove(first)\n",
    "        next_index += 1\n",
    "        second = tourney_scorer[next_index][0]\n",
    "        tourney_scorer[next_index].remove(second)\n",
    "    return [str(first),str(second)]"
   ]
  },
  {
   "cell_type": "code",
   "execution_count": 170,
   "metadata": {
    "scrolled": false
   },
   "outputs": [
    {
     "data": {
      "application/javascript": [
       " $(\".the_image_class_x\").on(\"click\", function(e){\n",
       "                 var kernel = IPython.notebook.kernel;\n",
       "                 kernel.execute(\"pick_one(1)\")\n",
       "                 kernel.execute(\"looparound()\");\n",
       "              });"
      ],
      "text/plain": [
       "<IPython.core.display.Javascript object>"
      ]
     },
     "metadata": {},
     "output_type": "display_data"
    },
    {
     "data": {
      "application/javascript": [
       " $(\".the_image_class_y\").on(\"click\", function(e){\n",
       "                 var kernel = IPython.notebook.kernel;\n",
       "                 kernel.execute(\"pick_one(2)\")\n",
       "                 kernel.execute(\"looparound()\");\n",
       "              });"
      ],
      "text/plain": [
       "<IPython.core.display.Javascript object>"
      ]
     },
     "metadata": {},
     "output_type": "display_data"
    }
   ],
   "source": [
    "from IPython.display import display\n",
    "from ipywidgets import Image\n",
    "from IPython.display import display, Javascript\n",
    "\n",
    "import os\n",
    "def looparound():\n",
    "    \n",
    "    exists = os.path.isfile('result.json')\n",
    "    if exists:\n",
    "        with open('result.json') as f:\n",
    "            results = json.load(f)\n",
    "        results = dict(results)\n",
    "\n",
    "    else:\n",
    "        results = dict((str(i),0) for i in range(0,12))\n",
    "\n",
    "    [first, second] = load_2()\n",
    "    displayed = {\n",
    "        \"1\": str(first),\n",
    "        \"2\": str(second)\n",
    "    }\n",
    "    #actually display\n",
    "    x = Image(value=open(first+\".png\", 'rb').read())\n",
    "    y = Image(value=open(second+\".png\", 'rb').read())\n",
    "\n",
    "    x.add_class('the_image_class_x')\n",
    "    y.add_class('the_image_class_y')\n",
    "\n",
    "    #Now, I wrote some javascript(jQuery) code like this...\n",
    "    js = ''' $(\".the_image_class_x\").on(\"click\", function(e){\n",
    "                 var kernel = IPython.notebook.kernel;\n",
    "                 kernel.execute(\"pick_one(1)\")\n",
    "                 kernel.execute(\"looparound()\");\n",
    "              });'''\n",
    "    #Now, I wrote some javascript(jQuery) code like this...\n",
    "    js2 = ''' $(\".the_image_class_y\").on(\"click\", function(e){\n",
    "                 var kernel = IPython.notebook.kernel;\n",
    "                 kernel.execute(\"pick_one(2)\")\n",
    "                 kernel.execute(\"looparound()\");\n",
    "              });'''\n",
    "\n",
    "    display(Javascript(js), Javascript(js2))\n",
    "looparound()"
   ]
  },
  {
   "cell_type": "code",
   "execution_count": 176,
   "metadata": {},
   "outputs": [
    {
     "ename": "KeyError",
     "evalue": "'2'",
     "output_type": "error",
     "traceback": [
      "\u001b[0;31m---------------------------------------------------------------------------\u001b[0m",
      "\u001b[0;31mKeyError\u001b[0m                                  Traceback (most recent call last)",
      "\u001b[0;32m<ipython-input-176-2856907466bc>\u001b[0m in \u001b[0;36m<module>\u001b[0;34m()\u001b[0m\n\u001b[1;32m      1\u001b[0m \u001b[0mCHOICE\u001b[0m \u001b[0;34m=\u001b[0m \u001b[0;36m2\u001b[0m\u001b[0;34m\u001b[0m\u001b[0;34m\u001b[0m\u001b[0m\n\u001b[0;32m----> 2\u001b[0;31m \u001b[0mpick_one\u001b[0m\u001b[0;34m(\u001b[0m\u001b[0mstr\u001b[0m\u001b[0;34m(\u001b[0m\u001b[0mCHOICE\u001b[0m\u001b[0;34m)\u001b[0m\u001b[0;34m)\u001b[0m\u001b[0;34m\u001b[0m\u001b[0;34m\u001b[0m\u001b[0m\n\u001b[0m\u001b[1;32m      3\u001b[0m \u001b[0mresults\u001b[0m\u001b[0;34m\u001b[0m\u001b[0;34m\u001b[0m\u001b[0m\n",
      "\u001b[0;32m<ipython-input-169-df490f3b01e9>\u001b[0m in \u001b[0;36mpick_one\u001b[0;34m(i)\u001b[0m\n\u001b[1;32m      4\u001b[0m \u001b[0mnext_index\u001b[0m \u001b[0;34m=\u001b[0m \u001b[0;36m1\u001b[0m\u001b[0;34m\u001b[0m\u001b[0;34m\u001b[0m\u001b[0m\n\u001b[1;32m      5\u001b[0m \u001b[0;32mdef\u001b[0m \u001b[0mpick_one\u001b[0m\u001b[0;34m(\u001b[0m\u001b[0mi\u001b[0m\u001b[0;34m)\u001b[0m\u001b[0;34m:\u001b[0m\u001b[0;34m\u001b[0m\u001b[0;34m\u001b[0m\u001b[0m\n\u001b[0;32m----> 6\u001b[0;31m     \u001b[0mresults\u001b[0m\u001b[0;34m[\u001b[0m\u001b[0mstr\u001b[0m\u001b[0;34m(\u001b[0m\u001b[0mdisplayed\u001b[0m\u001b[0;34m[\u001b[0m\u001b[0mstr\u001b[0m\u001b[0;34m(\u001b[0m\u001b[0mi\u001b[0m\u001b[0;34m)\u001b[0m\u001b[0;34m]\u001b[0m\u001b[0;34m)\u001b[0m\u001b[0;34m]\u001b[0m \u001b[0;34m=\u001b[0m \u001b[0mfloat\u001b[0m\u001b[0;34m(\u001b[0m\u001b[0mresults\u001b[0m\u001b[0;34m[\u001b[0m\u001b[0mstr\u001b[0m\u001b[0;34m(\u001b[0m\u001b[0mdisplayed\u001b[0m\u001b[0;34m[\u001b[0m\u001b[0mstr\u001b[0m\u001b[0;34m(\u001b[0m\u001b[0mi\u001b[0m\u001b[0;34m)\u001b[0m\u001b[0;34m]\u001b[0m\u001b[0;34m)\u001b[0m\u001b[0;34m]\u001b[0m\u001b[0;34m)\u001b[0m \u001b[0;34m+\u001b[0m \u001b[0;36m1\u001b[0m\u001b[0;34m\u001b[0m\u001b[0;34m\u001b[0m\u001b[0m\n\u001b[0m\u001b[1;32m      7\u001b[0m     \u001b[0;32mwith\u001b[0m \u001b[0mopen\u001b[0m\u001b[0;34m(\u001b[0m\u001b[0;34m'result.json'\u001b[0m\u001b[0;34m,\u001b[0m \u001b[0;34m'w'\u001b[0m\u001b[0;34m)\u001b[0m \u001b[0;32mas\u001b[0m \u001b[0mfp\u001b[0m\u001b[0;34m:\u001b[0m\u001b[0;34m\u001b[0m\u001b[0;34m\u001b[0m\u001b[0m\n\u001b[1;32m      8\u001b[0m         \u001b[0mjson\u001b[0m\u001b[0;34m.\u001b[0m\u001b[0mdump\u001b[0m\u001b[0;34m(\u001b[0m\u001b[0mresults\u001b[0m\u001b[0;34m,\u001b[0m \u001b[0mfp\u001b[0m\u001b[0;34m)\u001b[0m\u001b[0;34m\u001b[0m\u001b[0;34m\u001b[0m\u001b[0m\n",
      "\u001b[0;31mKeyError\u001b[0m: '2'"
     ]
    }
   ],
   "source": [
    "CHOICE = 2\n",
    "pick_one(str(CHOICE))\n",
    "results "
   ]
  },
  {
   "cell_type": "code",
   "execution_count": 151,
   "metadata": {},
   "outputs": [
    {
     "data": {
      "text/plain": [
       "{1: [0],\n",
       " 2: [0, 1],\n",
       " 3: [0, 1, 2],\n",
       " 4: [0, 1, 2, 3],\n",
       " 5: [0, 1, 2, 3, 4],\n",
       " 6: [0, 1, 2, 3, 4, 5],\n",
       " 7: [0, 1, 2, 3, 4, 5, 6],\n",
       " 8: [0, 1, 2, 3, 4, 5, 6, 7]}"
      ]
     },
     "execution_count": 151,
     "metadata": {},
     "output_type": "execute_result"
    }
   ],
   "source": [
    "tourney_scorer"
   ]
  },
  {
   "cell_type": "code",
   "execution_count": 185,
   "metadata": {
    "scrolled": true
   },
   "outputs": [
    {
     "data": {
      "application/vnd.jupyter.widget-view+json": {
       "model_id": "80e34a43bd804375a97cfdcf87bd487d",
       "version_major": 2,
       "version_minor": 0
      },
      "text/plain": [
       "Image(value=b'\\x89PNG\\r\\n\\x1a\\n\\x00\\x00\\x00\\rIHDR\\x00\\x00\\x01\\xb0\\x00\\x00\\x01 \\x08\\x06\\x00\\x00\\x00\\xd5(&i\\x00\\…"
      ]
     },
     "metadata": {},
     "output_type": "display_data"
    },
    {
     "data": {
      "application/javascript": [
       "$(\".the_image_class\").on(\"click\", function(e){\n",
       "             var kernel = IPython.notebook.kernel;\n",
       "             kernel.execute(\"on_image_click()\");\n",
       "          });"
      ],
      "text/plain": [
       "<IPython.core.display.Javascript object>"
      ]
     },
     "metadata": {},
     "output_type": "display_data"
    }
   ],
   "source": [
    "from ipywidgets import Image\n",
    "from IPython.display import display, Javascript, HTML\n",
    "\n",
    "file = open(\"1.png\", \"rb\")\n",
    "image = file.read()\n",
    "im = Image(\n",
    "    value=image,\n",
    "    format='png',\n",
    "    width=300,\n",
    "    height=400,\n",
    ")\n",
    "file.close()\n",
    "im.add_class('the_image_class')\n",
    "display(im)\n",
    "def on_image_click():\n",
    "    print(2222)\n",
    "    return \n",
    "\n",
    "#Now, I wrote some javascript(jQuery) code like this...\n",
    "js = '''$(\".the_image_class\").on(\"click\", function(e){\n",
    "             var kernel = IPython.notebook.kernel;\n",
    "             kernel.execute(\"on_image_click()\");\n",
    "          });'''\n",
    "\n",
    "#then, run the javascript...\n",
    "display(Javascript(js))"
   ]
  },
  {
   "cell_type": "code",
   "execution_count": null,
   "metadata": {},
   "outputs": [],
   "source": []
  },
  {
   "cell_type": "code",
   "execution_count": null,
   "metadata": {},
   "outputs": [],
   "source": []
  },
  {
   "cell_type": "code",
   "execution_count": 135,
   "metadata": {},
   "outputs": [
    {
     "data": {
      "text/html": [
       "<script>alert('Hello World!');</script>"
      ],
      "text/plain": [
       "<IPython.core.display.HTML object>"
      ]
     },
     "metadata": {},
     "output_type": "display_data"
    }
   ],
   "source": [
    "js = \"<script>alert('Hello World!');</script>\"\n",
    "display(HTML(js))"
   ]
  }
 ],
 "metadata": {
  "kernelspec": {
   "display_name": "Python 3",
   "language": "python",
   "name": "python3"
  },
  "language_info": {
   "codemirror_mode": {
    "name": "ipython",
    "version": 3
   },
   "file_extension": ".py",
   "mimetype": "text/x-python",
   "name": "python",
   "nbconvert_exporter": "python",
   "pygments_lexer": "ipython3",
   "version": "3.6.7"
  }
 },
 "nbformat": 4,
 "nbformat_minor": 2
}
