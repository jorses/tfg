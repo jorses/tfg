{
 "cells": [
  {
   "cell_type": "code",
   "execution_count": 351,
   "metadata": {},
   "outputs": [],
   "source": [
    "import pandas as pd\n",
    "import matplotlib.pyplot as plt\n",
    "import random\n",
    "import operator\n",
    "import matplotlib.patches as mpatches\n",
    "import matplotlib.pyplot as plt\n",
    "import numpy as np\n",
    "import json\n",
    "import ipywidgets as widgets\n",
    "import functools\n",
    "from IPython.display import display\n",
    "from ipywidgets import Image\n",
    "from IPython.display import display, Javascript\n",
    "from IPython import display as display_p\n",
    "import os\n",
    "import elo"
   ]
  },
  {
   "cell_type": "markdown",
   "metadata": {},
   "source": [
    "# Tournament \n",
    "\n",
    "## Input\n",
    "\n",
    "As exposed in the cell below, the tournament takes a profile input, detailing what each profile is about.\n",
    " Here we use three different profiles for our tournament, the teacher profile, the student profile and the gender delegate profile.\n",
    " \n",
    "## Execution\n",
    " The tournament matches each generated report for each profile against one another, and the user chooses the one they like the most. \n",
    " \n",
    "## Output\n",
    "\n",
    "As outputs we get the tournament results and the inner representation of these results, which will then be inputed into the program for a visual representation of each one.\n",
    "As the final output, we will have a score for each report presented to the user in the form of a result.json and "
   ]
  },
  {
   "cell_type": "code",
   "execution_count": 318,
   "metadata": {},
   "outputs": [
    {
     "ename": "SyntaxError",
     "evalue": "invalid syntax (<ipython-input-318-35564ce35eb7>, line 8)",
     "output_type": "error",
     "traceback": [
      "\u001b[0;36m  File \u001b[0;32m\"<ipython-input-318-35564ce35eb7>\"\u001b[0;36m, line \u001b[0;32m8\u001b[0m\n\u001b[0;31m    \"comparison_groups\": [\"course\", \"all\"]\u001b[0m\n\u001b[0m                      ^\u001b[0m\n\u001b[0;31mSyntaxError\u001b[0m\u001b[0;31m:\u001b[0m invalid syntax\n"
     ]
    }
   ],
   "source": [
    "# INPUT\n",
    "student_profile = {\n",
    "    \"age\": 18,\n",
    "    \"class\": \"student\",\n",
    "    \"gender\": \"female\",\n",
    "    \"nota\": \"7.5\",\n",
    "    \"relevant_variables\": [\"grade\", \"course\"]\n",
    "    \"comparison_groups\": [\"course\", \"all\"]\n",
    "    \"description\": \"wants to know how its own grade (given) compares to the rest of the students in its course (given)\",\n",
    "    \"curso\": \"2003-04\"\n",
    "}\n",
    "teacher_profile = {\n",
    "    \"age\": 48,\n",
    "    \"class\": \"teacher\",\n",
    "    \"gender\": \"female\",\n",
    "    \"relevant_variables\": [\"course\", \"grade\"]\n",
    "    \"description\": \"wants to know the grade of their class (year here) in comparison to the rest of the years\",\n",
    "    \"curso\": \"2003-04\"\n",
    "}\n",
    "gender_delegate = {\n",
    "    \"age\": 38,\n",
    "    \"class\": \"manager\",\n",
    "    \"relevant_variables\": [\"gender\", \"grade\"],\n",
    "    \"comparison_groups\": [\"male\", \"female\"]\n",
    "    \"description\": \"wants to know how students of different gender have been performing over the years\",\n",
    "    \"gender\": \"male\"\n",
    "}"
   ]
  },
  {
   "cell_type": "code",
   "execution_count": null,
   "metadata": {},
   "outputs": [],
   "source": [
    "%matplotlib inline\n",
    "df = pd.read_csv(\"./data/notas_merged.csv\")\n",
    "\n",
    "del df[\"NUMORD\"]\n",
    "del df[\"SUBTIPO\"]\n",
    "del df[\"CENTRO\"]\n",
    "del df[\"PLAN\"]\n",
    "del df[\"NOTA_BASE_4\"]\n",
    "categorical_columns = [\"CURSO\",\"ANOCON\",\"MUNICIPIO\",\"PROVINCIA\",\"DESPLAN\",\"GENERO\"]\n",
    "\n",
    "COLORS = [\"red\",\"blue\",\"yellow\",\"pink\",\"purple\",\"green\"]\n",
    "DESCRIPTIONS = {\n",
    "    \"CURSO\": [\"There are \", \" students from the year \"],\n",
    "    \"ANOCON\": [\"There are \", \" students who graduated in \"],\n",
    "    \"MUNICIPIO\": [\"There are \", \" students from the municipality of\"],\n",
    "    \"PROVINCIA\": [\"There are \", \" students from the province of \"],\n",
    "    \"DESPLAN\": [\"There are \", \"students of the plan \"],\n",
    "    \"GENERO\": [\"The are \", \" students of gender \"]\n",
    "}\n",
    "\n",
    "    \n",
    "category_counts = {}\n",
    "for c in categorical_columns:\n",
    "    df[c] = df[c].astype(\"category\")\n",
    "    category_counts[c] = dict(df[c].value_counts() )\n",
    "\n",
    "df = df.sort_values(\"CURSO\")"
   ]
  },
  {
   "cell_type": "code",
   "execution_count": 344,
   "metadata": {},
   "outputs": [],
   "source": [
    "def generate_category_count_pie(c,title=None):\n",
    "    \"\"\"Generates pie \"\"\"\n",
    "    p = {}\n",
    "    p[\"title\"] = title\n",
    "    p[\"arg\"] = [v for v in category_counts[c].values()]\n",
    "    p[\"labels\"] = [k for k in category_counts[c].keys()]\n",
    "    p[\"colors\"]=[random.choice(COLORS) for c in range(0,2)]\n",
    "    return p\n",
    "\n",
    "def generate_grade_plot(X, title=None):\n",
    "    fig_info = {}\n",
    "    fig_info[\"title\"]=title\n",
    "    fig_info[\"arg\"] = X[\"NOTA_BASE_10\"]\n",
    "    fig_info[\"color\"] = random.choice(COLORS)\n",
    "    fig_info[\"legend\"] = title\n",
    "    return fig_info\n",
    "\n",
    "def generate_student_report(profile, X):\n",
    "    plots = {}\n",
    "    c =  \"CURSO\"\n",
    "    course = profile[\"curso\"]\n",
    "    \n",
    "    X_course = X[X[c] == course]\n",
    "    X_other = X[X[c] != course]\n",
    "\n",
    "    dn1 = \"Your grade is \" + profile[\"nota\"] + \". The median grade of your course is \" + str(np.median(X_course[\"NOTA_BASE_10\"])) + \" The median grade for other courses is around\" + str(np.median(X_other[\"NOTA_BASE_10\"]))\n",
    "    dn2 =  \"Your grade is \" + profile[\"nota\"] + \". The median grade of your course is \" + str(np.median(X_course[\"NOTA_BASE_10\"]))\n",
    "    dn3 = \"Your grade is \" + profile[\"nota\"] \n",
    "    dn4 = \"The median grade of your course is \" + str(np.median(X_course[\"NOTA_BASE_10\"])) + \" The median grade for other courses is around\" + str(np.median(X_other[\"NOTA_BASE_10\"]))\n",
    "\n",
    "    plots_gradecmp_courses= [generate_grade_plot(X_course,\"Median \") for i in range(0,4)]\n",
    "    plots_gradecmp_all = [generate_grade_plot(X_other,\"Other courses performance\") for i in range(0,4)]\n",
    "    plots_dist_all = [generate_category_count_pie(c,\"CURSO\") for i in range(0,4)]\n",
    "    \n",
    "    # optionally \n",
    "    return [plots_gradecmp_courses, plots_gradecmp_all, plots_dist_all]\n",
    "    \n",
    "def generate_teacher_report(profile, X): \n",
    "    plots = {}\n",
    "    c =  \"CURSO\"\n",
    "    course = profile[\"curso\"]\n",
    "    \n",
    "    X_course = X[X[c] == course]\n",
    "    X_other = X[X[c] != course]\n",
    "    \n",
    "    dn1 = \"The median grade of your course is \" + str(np.median(X_course[\"NOTA_BASE_10\"])) + \" The median grade for other courses is around\" + str(np.median(X_other[\"NOTA_BASE_10\"]))\n",
    "    dn2 =  \"The median grade of your course is \" + str(np.median(X_course[\"NOTA_BASE_10\"]))\n",
    "    dn4 = \"The median grade of your course is \" + str(np.median(X_course[\"NOTA_BASE_10\"])) + \" The median grade for other courses is around\" + str(np.median(X_other[\"NOTA_BASE_10\"]))\n",
    "\n",
    "    plots_gradecmp_courses= [generate_grade_plot(X_course,\"your course's grade distribution\") for i in range(0,4) ]\n",
    "    plots_gradecmp_all = [generate_grade_plot(X_other,\"all courses grade distribution\")  for i in range(0,4)]\n",
    "    plots_dist_all = [generate_category_count_pie(c,\"CURSO\") for i in range(0,4)] \n",
    "    generate_category_count_pie\n",
    "    # optionally \n",
    "    return [plots_gradecmp_courses, plots_gradecmp_all, plots_dist_all]\n",
    "\n",
    "def generate_delegate_report(profile, X):\n",
    "    plots = {}\n",
    "    \n",
    "    X_h = X[X[\"GENERO\"] == \"H\"]\n",
    "    X_m = X[X[\"GENERO\"] != \"H\"]\n",
    "    \n",
    "    dn1 = \"The median grade of the female students is\" + str(np.median(X_m[\"NOTA_BASE_10\"])) + \".\\n The median grade for male students is \" + str(np.median(X_h[\"NOTA_BASE_10\"])) + \".\"\n",
    "    dn2 =  \"The median grade of the female students is\" + str(np.median(X_m[\"NOTA_BASE_10\"]))\n",
    "    dn3 = \" The median grade for male students is \" + str(np.median(X_h[\"NOTA_BASE_10\"]))\n",
    "    \n",
    "    plots_gradecmp_female= [generate_grade_plot(X_m, \"female\") for i in range(0,4)]\n",
    "    plots_gradecmp_male = [generate_grade_plot(X_h, \"male\") for i in range (0,4)] \n",
    "    plots_dist_all = [generate_category_count_pie(\"GENERO\", \"Gender distribution\") for i in range(0,4 )]\n",
    "    \n",
    "    # optionally \n",
    "    return [plots_gradecmp_female, plots_gradecmp_male, plots_dist_all]\n",
    "\n",
    "def givemefigures(hist , pie, mode):\n",
    "    #fig = plt.figure()\n",
    "    #plt.title(hist.title + pie.title)\n",
    "    if mode == \"histpie\":\n",
    "        fig, (ax1, ax2) = plt.subplots(1, 2)\n",
    "        plt.title(hist[\"title\"] + \" \" + pie[\"title\"])\n",
    "        ax1.hist(hist[\"arg\"],color=hist[\"color\"])\n",
    "        red_patch = mpatches.Patch(color=hist[\"color\"], label=hist[\"legend\"])\n",
    "        ax1.legend(handles=[red_patch])\n",
    "        ax2.pie(pie[\"arg\"],labels=pie[\"labels\"],autopct=None,colors=pie[\"colors\"])\n",
    "    elif mode == \"histhist\":\n",
    "        fig, (ax1, ax2) = plt.subplots(1, 2)\n",
    "        plt.title(hist[\"title\"]+ \" \" + pie[\"title\"])\n",
    "        ax1.hist(hist[\"arg\"],color=hist[\"color\"])\n",
    "        red_patch = mpatches.Patch(color=hist[\"color\"], label=hist[\"legend\"])\n",
    "        ax1.legend(handles=[red_patch])\n",
    "        ax2.hist(pie[\"arg\"],color=pie[\"color\"])\n",
    "        blue_patch = mpatches.Patch(color=pie[\"color\"], label=pie[\"legend\"])\n",
    "        ax2.legend(handles=[blue_patch])\n",
    "\n",
    "    return fig\n",
    "\n",
    "def create_reports(repo_someone):\n",
    "    #pair each with one of the others\n",
    "    chosen_ones = []\n",
    "    for j in range(0,len(repo_someone[1])):\n",
    "        chosen_ones.append((repo_someone[1][j], random.choice(repo_someone[2]),\"histpie\"))\n",
    "    for i in range(0,len(repo_someone[0])):\n",
    "        chosen_ones.append((repo_someone[0][i], random.choice(repo_someone[2]),\"histpie\"))\n",
    "        chosen_ones.append((repo_someone[0][i], random.choice(repo_someone[1]),\"histhist\"))\n",
    "\n",
    "\n",
    "        \n",
    "    return chosen_ones\n",
    "\n",
    "def write_png(tournament_name, reports):\n",
    "    figures = [] \n",
    "    \n",
    "    if not os.path.exists(tournament_name):\n",
    "        os.mkdir(tournament_name)\n",
    "        print(\"Directory \" , tournament_name ,  \" Created \")\n",
    "    else:    \n",
    "        print(\"Directory \" , tournament_name ,  \" already exists\")\n",
    "\n",
    "    for i in range(0,len(reports)):\n",
    "        figures.append(givemefigures(reports[i][0],reports[i][1],reports[i][2]))\n",
    "\n",
    "    i=0;\n",
    "    for fig in figures:\n",
    "        fig.savefig(tournament_name + \"/\" + str(i)+\".png\")\n",
    "        plt.close(fig)\n",
    "        i+=1\n",
    "    return reports"
   ]
  },
  {
   "cell_type": "code",
   "execution_count": 354,
   "metadata": {},
   "outputs": [],
   "source": [
    "#dictionary with keys range 0 to 9 and values all numbers from 0 to nine removin i\n",
    "def tournament(tournament_name):\n",
    "    if tournament_name == \"student\" : \n",
    "        student_reports = create_reports(generate_student_report(student_profile, df))\n",
    "        repo_student = write_png(tournament_name , student_reports)\n",
    "    elif tournament_name == \"teacher\":\n",
    "        teacher_reports = create_reports(generate_teacher_report(teacher_profile, df))\n",
    "        repo_teacher = write_png(tournament_name, teacher_reports)\n",
    "    else:\n",
    "        delegate_reports = create_reports(generate_delegate_report(gender_delegate, df))                              \n",
    "        repo_delegate = write_png(tournament_name, delegate_reports)\n",
    "        \n",
    "    tourney_scorer = dict([(i,list(range(0,i))) for i in range(1,9)])\n",
    "    displayed = {}\n",
    "    results = {}\n",
    "    def looparound(next_index):\n",
    "        global results\n",
    "        global displayed\n",
    "        \n",
    "        def pick_one(i):\n",
    "            global results\n",
    "            global displayed\n",
    "            def other(k):\n",
    "                return 1 if k == 2 else 2\n",
    "            \"Button(description='Choice 0', style=ButtonStyle())\"\n",
    "            \n",
    "            winner = i.description.split(\" \")[-1]\n",
    "            loser = other(i)\n",
    "            new_elos = elo.rate_1vs1(results[str(displayed[str(i)])],results[str(displayed[str(other(i))])])\n",
    "\n",
    "            results[str(displayed[str(i)])] = new_elos[0]\n",
    "            results[str(displayed[str(other(i))])] = new_elos[1]\n",
    "\n",
    "            with open(tournament_name + '/result.json', 'w') as fp:\n",
    "                json.dump(results, fp)\n",
    "            looparound(next_index)\n",
    "    \n",
    "        def load_2(next_index):\n",
    "            try:\n",
    "                if len(tourney_scorer[next_index]) == 0:\n",
    "                    next_index += 1\n",
    "                    return load_2(next_index)\n",
    "                else: \n",
    "                    first = tourney_scorer[next_index][0]\n",
    "                    second = next_index\n",
    "                    tourney_scorer[next_index].remove(first)\n",
    "                    return [str(first),str(second)]      \n",
    "            except Exception as e :\n",
    "                print(\"Tournament finished!\")\n",
    "                with open(tournament_name + '/result.json', 'w') as fp:\n",
    "                    json.dump(results, fp)\n",
    "\n",
    "                return [\"-1\",\"-1\"]\n",
    "\n",
    "        display_p.clear_output(wait=True)\n",
    "        exists = os.path.isfile(tournament_name + '/result.json')\n",
    "        if exists:\n",
    "            with open(tournament_name + '/result.json') as f:\n",
    "                results = json.load(f)\n",
    "            results = dict(results)\n",
    "        else:\n",
    "            results = dict((str(i),1000) for i in range(0,9))\n",
    "        [first, second] = load_2(next_index)\n",
    "        if [\"-1\",\"-1\"] == [first,second]:\n",
    "            if tournament_name == \"student\" : \n",
    "                return student_reports\n",
    "            elif tournament_name == \"teacher\":\n",
    "                return teacher_reports\n",
    "            else:\n",
    "                return delegate_reports \n",
    "                                         \n",
    "        displayed = {\n",
    "            \"1\": str(first),\n",
    "            \"2\": str(second)\n",
    "        }\n",
    "        #actually display\n",
    "        COLS = 2\n",
    "        ROWS = 1\n",
    "        IMAGES = [open(tournament_name + \"/\" + str(i)+\".png\", 'rb').read() for i in [first, second]]\n",
    "        IMG_WIDTH = 450\n",
    "        IMG_HEIGHT = 600\n",
    "\n",
    "        rows = []\n",
    "\n",
    "        for row in range(ROWS):\n",
    "            cols = []\n",
    "            for col in range(COLS):\n",
    "                index = row * COLS + col\n",
    "                image = widgets.Image(\n",
    "                    value=IMAGES[index], width=IMG_WIDTH, height=IMG_HEIGHT\n",
    "                )\n",
    "                button = widgets.Button(description='Choice %d' % (index+1))\n",
    "                # Bind the click event to the on_click function, with our index as argument\n",
    "                button.on_click(functools.partial(pick_one))\n",
    "\n",
    "                # Create a vertical layout box, image above the button\n",
    "                box = widgets.VBox([image, button])\n",
    "                cols.append(box)\n",
    "\n",
    "            # Create a horizontal layout box, grouping all the columns together\n",
    "            rows.append(widgets.HBox(cols))\n",
    "\n",
    "    # Create a vertical layout box, grouping all the rows together\n",
    "        result_disp = widgets.VBox(rows)\n",
    "        display(result_disp)\n",
    "    next_index = 1\n",
    "    looparound(next_index)"
   ]
  },
  {
   "cell_type": "code",
   "execution_count": 334,
   "metadata": {
    "scrolled": true
   },
   "outputs": [
    {
     "data": {
      "application/vnd.jupyter.widget-view+json": {
       "model_id": "1bb54f228bcb4a578eee5e8ebabac3b0",
       "version_major": 2,
       "version_minor": 0
      },
      "text/plain": [
       "VBox(children=(HBox(children=(VBox(children=(Image(value=b'\\x89PNG\\r\\n\\x1a\\n\\x00\\x00\\x00\\rIHDR\\x00\\x00\\x01\\xb0…"
      ]
     },
     "metadata": {},
     "output_type": "display_data"
    }
   ],
   "source": [
    "Javascript(\"Jupyter.notebook.execute_cells([5])\")\n",
    "reports = tournament(\"student\")"
   ]
  },
  {
   "cell_type": "code",
   "execution_count": 336,
   "metadata": {},
   "outputs": [
    {
     "data": {
      "application/vnd.jupyter.widget-view+json": {
       "model_id": "f908706a4ad54aa6b655d7070a4ad685",
       "version_major": 2,
       "version_minor": 0
      },
      "text/plain": [
       "VBox(children=(HBox(children=(VBox(children=(Image(value=b'\\x89PNG\\r\\n\\x1a\\n\\x00\\x00\\x00\\rIHDR\\x00\\x00\\x01\\xb0…"
      ]
     },
     "metadata": {},
     "output_type": "display_data"
    }
   ],
   "source": [
    "Javascript(\"Jupyter.notebook.execute_cells([4])\")\n",
    "tournament(\"teacher\")"
   ]
  },
  {
   "cell_type": "code",
   "execution_count": 346,
   "metadata": {},
   "outputs": [
    {
     "data": {
      "application/vnd.jupyter.widget-view+json": {
       "model_id": "ac9c5be25b2347f484edd0b781c2c352",
       "version_major": 2,
       "version_minor": 0
      },
      "text/plain": [
       "VBox(children=(HBox(children=(VBox(children=(Image(value=b'\\x89PNG\\r\\n\\x1a\\n\\x00\\x00\\x00\\rIHDR\\x00\\x00\\x01\\xb0…"
      ]
     },
     "metadata": {},
     "output_type": "display_data"
    }
   ],
   "source": [
    "Javascript(\"Jupyter.notebook.execute_cells([4])\")\n",
    "tournament(\"gender_delegate\")"
   ]
  },
  {
   "cell_type": "code",
   "execution_count": 350,
   "metadata": {},
   "outputs": [
    {
     "data": {
      "text/plain": [
       "(1005.0, 995.0)"
      ]
     },
     "execution_count": 350,
     "metadata": {},
     "output_type": "execute_result"
    }
   ],
   "source": [
    "elo.rate_1vs1(1000,1000)"
   ]
  }
 ],
 "metadata": {
  "kernelspec": {
   "display_name": "Python 3",
   "language": "python",
   "name": "python3"
  },
  "language_info": {
   "codemirror_mode": {
    "name": "ipython",
    "version": 3
   },
   "file_extension": ".py",
   "mimetype": "text/x-python",
   "name": "python",
   "nbconvert_exporter": "python",
   "pygments_lexer": "ipython3",
   "version": "3.6.7"
  }
 },
 "nbformat": 4,
 "nbformat_minor": 2
}
