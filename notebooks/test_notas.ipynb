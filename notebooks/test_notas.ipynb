{
 "cells": [
  {
   "cell_type": "code",
   "execution_count": 251,
   "metadata": {},
   "outputs": [],
   "source": [
    "import pandas as pd\n",
    "import matplotlib.pyplot as plt\n",
    "import random\n",
    "import operator\n",
    "from matplotlib.backends.backend_pdf import PdfPages\n",
    "\n",
    "%matplotlib inline\n",
    "df = pd.read_csv(\"./data/notas_merged.csv\")\n",
    "del df[\"NUMORD\"]\n",
    "del df[\"SUBTIPO\"]\n",
    "del df[\"CENTRO\"]\n",
    "del df[\"PLAN\"]\n",
    "\n",
    "category_counts = {}\n",
    "categorical_columns = [\"CURSO\",\"ANOCON\",\"MUNICIPIO\",\"PROVINCIA\",\"DESPLAN\",\"GENERO\"]\n",
    "\n",
    "COLORS = [\"red\",\"blue\",\"yellow\",\"pink\",\"purple\",\"green\"]\n",
    "DESCRIPTIONS = {\n",
    "    \"CURSO\":[\"There are \", \" students from the year \"],\n",
    "    \"ANOCON\":[\"There are \", \" students who graduated in \"],\n",
    "    \"MUNICIPIO\":[\"There are \", \" students from the municipality of\"],\n",
    "    \"PROVINCIA\": [\"There are \", \" students from the province of \"],\n",
    "    \"DESPLAN\": [\"There are \", \"students of the plan \"],\n",
    "    \"GENERO\": [\"The are \", \" students of gender \"]\n",
    "}\n",
    "\n",
    "def write_pdf(fname, figures):\n",
    "    doc = PdfPages(fname)\n",
    "    for fig in figures:\n",
    "        fig.savefig(doc, format='pdf')\n",
    "    doc.close()\n",
    "\n",
    "for c in categorical_columns:\n",
    "    df[c] = df[c].astype(\"category\")\n",
    "    category_counts[c] = dict(df[c].value_counts() )\n",
    "\n",
    "df = df.sort_values(\"CURSO\")"
   ]
  },
  {
   "cell_type": "code",
   "execution_count": 179,
   "metadata": {},
   "outputs": [
    {
     "data": {
      "text/html": [
       "<div>\n",
       "<style scoped>\n",
       "    .dataframe tbody tr th:only-of-type {\n",
       "        vertical-align: middle;\n",
       "    }\n",
       "\n",
       "    .dataframe tbody tr th {\n",
       "        vertical-align: top;\n",
       "    }\n",
       "\n",
       "    .dataframe thead th {\n",
       "        text-align: right;\n",
       "    }\n",
       "</style>\n",
       "<table border=\"1\" class=\"dataframe\">\n",
       "  <thead>\n",
       "    <tr style=\"text-align: right;\">\n",
       "      <th></th>\n",
       "      <th>CURSO</th>\n",
       "      <th>ANOCON</th>\n",
       "      <th>MUNICIPIO</th>\n",
       "      <th>PROVINCIA</th>\n",
       "      <th>NOTA_BASE_4</th>\n",
       "      <th>NOTA_BASE_10</th>\n",
       "      <th>DESPLAN</th>\n",
       "      <th>GENERO</th>\n",
       "    </tr>\n",
       "  </thead>\n",
       "  <tbody>\n",
       "    <tr>\n",
       "      <th>773</th>\n",
       "      <td>1993-94</td>\n",
       "      <td>1993-94S</td>\n",
       "      <td>MADRID</td>\n",
       "      <td>MADRID</td>\n",
       "      <td>1.37</td>\n",
       "      <td>6.24</td>\n",
       "      <td>45091 - INGENIERIA TECNICA EN INFORMATICA DE G...</td>\n",
       "      <td>M</td>\n",
       "    </tr>\n",
       "    <tr>\n",
       "      <th>772</th>\n",
       "      <td>1993-94</td>\n",
       "      <td>1993-94S</td>\n",
       "      <td>MADRID</td>\n",
       "      <td>MADRID</td>\n",
       "      <td>1.55</td>\n",
       "      <td>6.60</td>\n",
       "      <td>45091 - INGENIERIA TECNICA EN INFORMATICA DE G...</td>\n",
       "      <td>M</td>\n",
       "    </tr>\n",
       "    <tr>\n",
       "      <th>771</th>\n",
       "      <td>1993-94</td>\n",
       "      <td>1993-94S</td>\n",
       "      <td>MADRID</td>\n",
       "      <td>MADRID</td>\n",
       "      <td>1.92</td>\n",
       "      <td>7.34</td>\n",
       "      <td>45091 - INGENIERIA TECNICA EN INFORMATICA DE G...</td>\n",
       "      <td>H</td>\n",
       "    </tr>\n",
       "    <tr>\n",
       "      <th>260</th>\n",
       "      <td>1994-95</td>\n",
       "      <td>1994-95J</td>\n",
       "      <td>GETAFE</td>\n",
       "      <td>MADRID</td>\n",
       "      <td>1.67</td>\n",
       "      <td>6.84</td>\n",
       "      <td>45091 - INGENIERIA TECNICA EN INFORMATICA DE G...</td>\n",
       "      <td>M</td>\n",
       "    </tr>\n",
       "    <tr>\n",
       "      <th>278</th>\n",
       "      <td>1994-95</td>\n",
       "      <td>1994-95J</td>\n",
       "      <td>LEGANES</td>\n",
       "      <td>MADRID</td>\n",
       "      <td>1.20</td>\n",
       "      <td>5.90</td>\n",
       "      <td>45191 - INGENIERIA TECNICA EN INFORMATICA DE S...</td>\n",
       "      <td>M</td>\n",
       "    </tr>\n",
       "  </tbody>\n",
       "</table>\n",
       "</div>"
      ],
      "text/plain": [
       "       CURSO    ANOCON MUNICIPIO PROVINCIA  NOTA_BASE_4  NOTA_BASE_10  \\\n",
       "773  1993-94  1993-94S    MADRID    MADRID         1.37          6.24   \n",
       "772  1993-94  1993-94S    MADRID    MADRID         1.55          6.60   \n",
       "771  1993-94  1993-94S    MADRID    MADRID         1.92          7.34   \n",
       "260  1994-95  1994-95J    GETAFE    MADRID         1.67          6.84   \n",
       "278  1994-95  1994-95J   LEGANES    MADRID         1.20          5.90   \n",
       "\n",
       "                                               DESPLAN GENERO  \n",
       "773  45091 - INGENIERIA TECNICA EN INFORMATICA DE G...      M  \n",
       "772  45091 - INGENIERIA TECNICA EN INFORMATICA DE G...      M  \n",
       "771  45091 - INGENIERIA TECNICA EN INFORMATICA DE G...      H  \n",
       "260  45091 - INGENIERIA TECNICA EN INFORMATICA DE G...      M  \n",
       "278  45191 - INGENIERIA TECNICA EN INFORMATICA DE S...      M  "
      ]
     },
     "execution_count": 179,
     "metadata": {},
     "output_type": "execute_result"
    }
   ],
   "source": [
    "df.head()"
   ]
  },
  {
   "cell_type": "code",
   "execution_count": 259,
   "metadata": {},
   "outputs": [
    {
     "name": "stdout",
     "output_type": "stream",
     "text": [
      "2003-04\n",
      "2002-03J\n",
      " MADRID\n",
      "MADRID\n",
      "36091 - INGENIERIA EN INFORMATICA\n",
      "H\n"
     ]
    },
    {
     "data": {
      "text/plain": [
       "{'H': <matplotlib.axes._subplots.AxesSubplot at 0x12e36b438>,\n",
       " 'M': <matplotlib.axes._subplots.AxesSubplot at 0x12e044160>}"
      ]
     },
     "execution_count": 259,
     "metadata": {},
     "output_type": "execute_result"
    },
    {
     "data": {
      "image/png": "[encoded data removed]",
      "text/plain": [
       "<matplotlib.figure.Figure at 0x12d746860>"
      ]
     },
     "metadata": {
      "needs_background": "light"
     },
     "output_type": "display_data"
    },
    {
     "data": {
      "image/png": "[encoded data removed]",
      "text/plain": [
       "<matplotlib.figure.Figure at 0x12e26fa58>"
      ]
     },
     "metadata": {
      "needs_background": "light"
     },
     "output_type": "display_data"
    },
    {
     "data": {
      "image/png": "[encoded data removed]",
      "text/plain": [
       "<matplotlib.figure.Figure at 0x12db1aef0>"
      ]
     },
     "metadata": {
      "needs_background": "light"
     },
     "output_type": "display_data"
    }
   ],
   "source": [
    "df_h = df[df[\"GENERO\"]==\"H\"]\n",
    "generate_plot(df_m)\n",
    "category_counts_most_frequent = {}\n",
    "\n",
    "for c in category_counts:\n",
    "    max_cat = max(category_counts[c].items(), key=operator.itemgetter(1))[0]\n",
    "    print(max_cat)\n",
    "    category_counts_most_frequent[c] = {\n",
    "            max_cat : category_counts[c][max_cat]\n",
    "    }\n",
    "\n",
    "def generate_grade_plot(X):\n",
    "    \"\"\" Generates grade plot for a certain subgroup \"\"\"\n",
    "    return X.plot(kind='hist', y=\"NOTA_BASE_10\",color=random.choice(COLORS))\n",
    "\n",
    "def generate_grade_plots(X,c):\n",
    "    plots = {}\n",
    "    for cat in category_counts[c]:\n",
    "        X_aux = X[X[c] == cat]\n",
    "        plots[cat] = generate_grade_plot(X_aux)\n",
    "    return plots\n",
    "\n",
    "def generate_category_count_pie(c):\n",
    "    fig = plt.figure()\n",
    "    plt.pie([v for v in category_counts[c].values()], labels=[k for k in category_counts[c].keys()], autopct=None)\n",
    "    return fig\n",
    "\n",
    "def generate_category_count_bar(c):\n",
    "    fig = plt.figure()\n",
    "    plt.bar(range(len(category_counts[c])), list(category_counts[c].values()), align='center',color=random.choice(COLORS))\n",
    "    plt.xticks(range(len(category_counts[c])), list(category_counts[c].keys()))\n",
    "    return fig\n",
    "\n",
    "def generate_description(category_counts):\n",
    "    report = \"\"\n",
    "    for c in categorical_columns:\n",
    "        for cat in category_counts[c]:\n",
    "            report += DESCRIPTIONS[c][0] + str(category_counts[c][cat]) + DESCRIPTIONS[c][1] + str(cat) +\". \"\n",
    "    return report\n",
    "generate_grade_plots(df,\"GENERO\")"
   ]
  },
  {
   "cell_type": "code",
   "execution_count": 248,
   "metadata": {},
   "outputs": [
    {
     "data": {
      "image/png": "[encoded data removed]",
      "text/plain": [
       "<matplotlib.figure.Figure at 0x12cc42e10>"
      ]
     },
     "metadata": {},
     "output_type": "display_data"
    }
   ],
   "source": [
    "D = category_counts[\"CURSO\"]\n",
    "\n",
    "\n",
    "figu = generate_category_count_pie(\"CURSO\")"
   ]
  },
  {
   "cell_type": "code",
   "execution_count": 249,
   "metadata": {},
   "outputs": [
    {
     "data": {
      "image/png": "[encoded data removed]",
      "text/plain": [
       "<matplotlib.figure.Figure at 0x12cc42e10>"
      ]
     },
     "execution_count": 249,
     "metadata": {},
     "output_type": "execute_result"
    }
   ],
   "source": [
    "figu"
   ]
  },
  {
   "cell_type": "code",
   "execution_count": 128,
   "metadata": {},
   "outputs": [
    {
     "data": {
      "image/png": "[encoded data removed]",
      "text/plain": [
       "<matplotlib.figure.Figure at 0x1297d5710>"
      ]
     },
     "metadata": {
      "needs_background": "light"
     },
     "output_type": "display_data"
    },
    {
     "data": {
      "image/png": "[encoded data removed]",
      "text/plain": [
       "<matplotlib.figure.Figure at 0x1297d5b70>"
      ]
     },
     "metadata": {
      "needs_background": "light"
     },
     "output_type": "display_data"
    }
   ],
   "source": [
    "df_h = df[df[\"GENERO\"]==\"H\"]\n",
    "df_m = df[df[\"GENERO\"]==\"M\"]\n",
    "plot_notas_hombres = df_h.plot(kind='hist', y=\"NOTA_BASE_10\")\n",
    "plot_notas_mujeres = df_m.plot(kind='hist', y=\"NOTA_BASE_10\",color=\"pink\")"
   ]
  },
  {
   "cell_type": "code",
   "execution_count": 116,
   "metadata": {},
   "outputs": [
    {
     "data": {
      "text/plain": [
       "'YlGn'"
      ]
     },
     "execution_count": 116,
     "metadata": {},
     "output_type": "execute_result"
    }
   ],
   "source": []
  },
  {
   "cell_type": "code",
   "execution_count": 71,
   "metadata": {
    "scrolled": true
   },
   "outputs": [
    {
     "ename": "KeyError",
     "evalue": "'CENTRO'",
     "output_type": "error",
     "traceback": [
      "\u001b[0;31m---------------------------------------------------------------------------\u001b[0m",
      "\u001b[0;31mKeyError\u001b[0m                                  Traceback (most recent call last)",
      "\u001b[0;32m~/anaconda3/lib/python3.6/site-packages/pandas/core/indexes/base.py\u001b[0m in \u001b[0;36mget_loc\u001b[0;34m(self, key, method, tolerance)\u001b[0m\n\u001b[1;32m   2655\u001b[0m             \u001b[0;32mtry\u001b[0m\u001b[0;34m:\u001b[0m\u001b[0;34m\u001b[0m\u001b[0;34m\u001b[0m\u001b[0m\n\u001b[0;32m-> 2656\u001b[0;31m                 \u001b[0;32mreturn\u001b[0m \u001b[0mself\u001b[0m\u001b[0;34m.\u001b[0m\u001b[0m_engine\u001b[0m\u001b[0;34m.\u001b[0m\u001b[0mget_loc\u001b[0m\u001b[0;34m(\u001b[0m\u001b[0mkey\u001b[0m\u001b[0;34m)\u001b[0m\u001b[0;34m\u001b[0m\u001b[0;34m\u001b[0m\u001b[0m\n\u001b[0m\u001b[1;32m   2657\u001b[0m             \u001b[0;32mexcept\u001b[0m \u001b[0mKeyError\u001b[0m\u001b[0;34m:\u001b[0m\u001b[0;34m\u001b[0m\u001b[0;34m\u001b[0m\u001b[0m\n",
      "\u001b[0;32mpandas/_libs/index.pyx\u001b[0m in \u001b[0;36mpandas._libs.index.IndexEngine.get_loc\u001b[0;34m()\u001b[0m\n",
      "\u001b[0;32mpandas/_libs/index.pyx\u001b[0m in \u001b[0;36mpandas._libs.index.IndexEngine.get_loc\u001b[0;34m()\u001b[0m\n",
      "\u001b[0;32mpandas/_libs/hashtable_class_helper.pxi\u001b[0m in \u001b[0;36mpandas._libs.hashtable.PyObjectHashTable.get_item\u001b[0;34m()\u001b[0m\n",
      "\u001b[0;32mpandas/_libs/hashtable_class_helper.pxi\u001b[0m in \u001b[0;36mpandas._libs.hashtable.PyObjectHashTable.get_item\u001b[0;34m()\u001b[0m\n",
      "\u001b[0;31mKeyError\u001b[0m: 'CENTRO'",
      "\nDuring handling of the above exception, another exception occurred:\n",
      "\u001b[0;31mKeyError\u001b[0m                                  Traceback (most recent call last)",
      "\u001b[0;32m<ipython-input-71-3d1c85b5167a>\u001b[0m in \u001b[0;36m<module>\u001b[0;34m()\u001b[0m\n\u001b[0;32m----> 1\u001b[0;31m \u001b[0mdf\u001b[0m\u001b[0;34m[\u001b[0m\u001b[0;34m\"CENTRO\"\u001b[0m\u001b[0;34m]\u001b[0m\u001b[0;34m.\u001b[0m\u001b[0mvalues\u001b[0m\u001b[0;34m\u001b[0m\u001b[0;34m\u001b[0m\u001b[0m\n\u001b[0m",
      "\u001b[0;32m~/anaconda3/lib/python3.6/site-packages/pandas/core/frame.py\u001b[0m in \u001b[0;36m__getitem__\u001b[0;34m(self, key)\u001b[0m\n\u001b[1;32m   2925\u001b[0m             \u001b[0;32mif\u001b[0m \u001b[0mself\u001b[0m\u001b[0;34m.\u001b[0m\u001b[0mcolumns\u001b[0m\u001b[0;34m.\u001b[0m\u001b[0mnlevels\u001b[0m \u001b[0;34m>\u001b[0m \u001b[0;36m1\u001b[0m\u001b[0;34m:\u001b[0m\u001b[0;34m\u001b[0m\u001b[0;34m\u001b[0m\u001b[0m\n\u001b[1;32m   2926\u001b[0m                 \u001b[0;32mreturn\u001b[0m \u001b[0mself\u001b[0m\u001b[0;34m.\u001b[0m\u001b[0m_getitem_multilevel\u001b[0m\u001b[0;34m(\u001b[0m\u001b[0mkey\u001b[0m\u001b[0;34m)\u001b[0m\u001b[0;34m\u001b[0m\u001b[0;34m\u001b[0m\u001b[0m\n\u001b[0;32m-> 2927\u001b[0;31m             \u001b[0mindexer\u001b[0m \u001b[0;34m=\u001b[0m \u001b[0mself\u001b[0m\u001b[0;34m.\u001b[0m\u001b[0mcolumns\u001b[0m\u001b[0;34m.\u001b[0m\u001b[0mget_loc\u001b[0m\u001b[0;34m(\u001b[0m\u001b[0mkey\u001b[0m\u001b[0;34m)\u001b[0m\u001b[0;34m\u001b[0m\u001b[0;34m\u001b[0m\u001b[0m\n\u001b[0m\u001b[1;32m   2928\u001b[0m             \u001b[0;32mif\u001b[0m \u001b[0mis_integer\u001b[0m\u001b[0;34m(\u001b[0m\u001b[0mindexer\u001b[0m\u001b[0;34m)\u001b[0m\u001b[0;34m:\u001b[0m\u001b[0;34m\u001b[0m\u001b[0;34m\u001b[0m\u001b[0m\n\u001b[1;32m   2929\u001b[0m                 \u001b[0mindexer\u001b[0m \u001b[0;34m=\u001b[0m \u001b[0;34m[\u001b[0m\u001b[0mindexer\u001b[0m\u001b[0;34m]\u001b[0m\u001b[0;34m\u001b[0m\u001b[0;34m\u001b[0m\u001b[0m\n",
      "\u001b[0;32m~/anaconda3/lib/python3.6/site-packages/pandas/core/indexes/base.py\u001b[0m in \u001b[0;36mget_loc\u001b[0;34m(self, key, method, tolerance)\u001b[0m\n\u001b[1;32m   2656\u001b[0m                 \u001b[0;32mreturn\u001b[0m \u001b[0mself\u001b[0m\u001b[0;34m.\u001b[0m\u001b[0m_engine\u001b[0m\u001b[0;34m.\u001b[0m\u001b[0mget_loc\u001b[0m\u001b[0;34m(\u001b[0m\u001b[0mkey\u001b[0m\u001b[0;34m)\u001b[0m\u001b[0;34m\u001b[0m\u001b[0;34m\u001b[0m\u001b[0m\n\u001b[1;32m   2657\u001b[0m             \u001b[0;32mexcept\u001b[0m \u001b[0mKeyError\u001b[0m\u001b[0;34m:\u001b[0m\u001b[0;34m\u001b[0m\u001b[0;34m\u001b[0m\u001b[0m\n\u001b[0;32m-> 2658\u001b[0;31m                 \u001b[0;32mreturn\u001b[0m \u001b[0mself\u001b[0m\u001b[0;34m.\u001b[0m\u001b[0m_engine\u001b[0m\u001b[0;34m.\u001b[0m\u001b[0mget_loc\u001b[0m\u001b[0;34m(\u001b[0m\u001b[0mself\u001b[0m\u001b[0;34m.\u001b[0m\u001b[0m_maybe_cast_indexer\u001b[0m\u001b[0;34m(\u001b[0m\u001b[0mkey\u001b[0m\u001b[0;34m)\u001b[0m\u001b[0;34m)\u001b[0m\u001b[0;34m\u001b[0m\u001b[0;34m\u001b[0m\u001b[0m\n\u001b[0m\u001b[1;32m   2659\u001b[0m         \u001b[0mindexer\u001b[0m \u001b[0;34m=\u001b[0m \u001b[0mself\u001b[0m\u001b[0;34m.\u001b[0m\u001b[0mget_indexer\u001b[0m\u001b[0;34m(\u001b[0m\u001b[0;34m[\u001b[0m\u001b[0mkey\u001b[0m\u001b[0;34m]\u001b[0m\u001b[0;34m,\u001b[0m \u001b[0mmethod\u001b[0m\u001b[0;34m=\u001b[0m\u001b[0mmethod\u001b[0m\u001b[0;34m,\u001b[0m \u001b[0mtolerance\u001b[0m\u001b[0;34m=\u001b[0m\u001b[0mtolerance\u001b[0m\u001b[0;34m)\u001b[0m\u001b[0;34m\u001b[0m\u001b[0;34m\u001b[0m\u001b[0m\n\u001b[1;32m   2660\u001b[0m         \u001b[0;32mif\u001b[0m \u001b[0mindexer\u001b[0m\u001b[0;34m.\u001b[0m\u001b[0mndim\u001b[0m \u001b[0;34m>\u001b[0m \u001b[0;36m1\u001b[0m \u001b[0;32mor\u001b[0m \u001b[0mindexer\u001b[0m\u001b[0;34m.\u001b[0m\u001b[0msize\u001b[0m \u001b[0;34m>\u001b[0m \u001b[0;36m1\u001b[0m\u001b[0;34m:\u001b[0m\u001b[0;34m\u001b[0m\u001b[0;34m\u001b[0m\u001b[0m\n",
      "\u001b[0;32mpandas/_libs/index.pyx\u001b[0m in \u001b[0;36mpandas._libs.index.IndexEngine.get_loc\u001b[0;34m()\u001b[0m\n",
      "\u001b[0;32mpandas/_libs/index.pyx\u001b[0m in \u001b[0;36mpandas._libs.index.IndexEngine.get_loc\u001b[0;34m()\u001b[0m\n",
      "\u001b[0;32mpandas/_libs/hashtable_class_helper.pxi\u001b[0m in \u001b[0;36mpandas._libs.hashtable.PyObjectHashTable.get_item\u001b[0;34m()\u001b[0m\n",
      "\u001b[0;32mpandas/_libs/hashtable_class_helper.pxi\u001b[0m in \u001b[0;36mpandas._libs.hashtable.PyObjectHashTable.get_item\u001b[0;34m()\u001b[0m\n",
      "\u001b[0;31mKeyError\u001b[0m: 'CENTRO'"
     ]
    }
   ],
   "source": []
  },
  {
   "cell_type": "code",
   "execution_count": 9,
   "metadata": {},
   "outputs": [],
   "source": [
    "domain_analysis = {\n",
    "    \"attribute_list\": [\n",
    "        \"CENTRO\",\n",
    "        \"CURSO\",\n",
    "        \"PLAN\",\n",
    "        \"ANOCON\",\n",
    "        \"MUNICIPIO\",\n",
    "        \"PROVINCIA\",\n",
    "        \"NOTA_BASE_4\",\n",
    "        \"NOTA_BASE_10\",\n",
    "        \"DESPLAN\",\n",
    "        \"GENERO\"\n",
    "    ],\n",
    "    \"knowledge\": {\n",
    "        \"column_stats\": {\n",
    "            \"CURSO\": {\n",
    "                \"metric\": \"distribution\",\n",
    "                \"value\": 0\n",
    "            },\n",
    "            \"PLAN\": {\n",
    "                \"metric\": \"distribution\",\n",
    "                \"value\": 0\n",
    "            },\n",
    "            \"ANOCON\": {\n",
    "                \"metric\": \"distribution\",\n",
    "                \"value\": 0\n",
    "            },\n",
    "            \"MUNICIPIO\": {\n",
    "                \"metric\": \"distribution\",\n",
    "                \"value\": 0\n",
    "            },\n",
    "            \"PROVINCIA\": {\n",
    "                \"metric\": \"distribution\",\n",
    "                \"value\": 0\n",
    "            },\n",
    "            \"NOTA_BASE_4\": {\n",
    "                \"metric\": \"distribution\",\n",
    "                \"value\": 2.1\n",
    "            },\n",
    "            \"NOTA_BASE_10\": {\n",
    "                \"metric\": \"num_metric\",\n",
    "                \"value\": 7.5\n",
    "            },\n",
    "            \"DESPLAN\": {\n",
    "                \"metric\": \"distribution\",\n",
    "                \"value\": 0\n",
    "            },\n",
    "            \"SUBTIPO\": {\n",
    "                \"metric\": \"distribution\",\n",
    "                \"value\": 0\n",
    "            },\n",
    "            \"GENERO\": {\n",
    "                \"metric\": \"distribution\",\n",
    "                \"value\": 0\n",
    "            }\n",
    "        },\n",
    "        \n",
    "    }\n",
    "\n",
    "}"
   ]
  },
  {
   "cell_type": "code",
   "execution_count": null,
   "metadata": {},
   "outputs": [],
   "source": []
  },
  {
   "cell_type": "code",
   "execution_count": 8,
   "metadata": {},
   "outputs": [],
   "source": [
    "\n",
    "user_profile = {\n",
    "    \"nombre_usuario\": {\n",
    "        \"user_knowledge\": {\n",
    "            \"age\": 20,\n",
    "            \"class\": \"student\",\n",
    "            \"gender\": \"female\",\n",
    "            \"curso\": \"CURSO del usuario aqui\",\n",
    "            \"numord\": \"ID del usuario aquí\"\n",
    "        },\n",
    "        \"profile_knowledge\": {\n",
    "            \"stats\": {\n",
    "                \"NOTA_BASE_10\": {\n",
    "                    \"metric\": {\n",
    "                        \"comparison\": { \n",
    "                            \"group\": {\n",
    "                                \"NUMORD\": \"ID del usuario aquí\",\n",
    "                                \"color\": \"red\"\n",
    "                            },\n",
    "                            \"group\": {\n",
    "                                \"CURSO\": \"CURSO del usuario aqui\",\n",
    "                                \"color\": \"red\"\n",
    "\n",
    "                            },\n",
    "                            \"metric\": \"distribution\"\n",
    "                        }\n",
    "                    },\n",
    "                    \"show\": {\n",
    "                        \"graph\": \"lines\"\n",
    "                    }\n",
    "                }\n",
    "            }\n",
    "        }\n",
    "\n",
    "    }\n",
    "}\n",
    "\n",
    "user_teacher = {\n",
    "    \"nombre_profesor\": {\n",
    "        \"user_knowledge\": {\n",
    "            \"age\": 48,\n",
    "            \"class\": \"teacher\",\n",
    "            \"gender\": \"female\",\n",
    "            \"curso\": \"Curso del profesor aqui\"\n",
    "        },\n",
    "        \"profile_knowledge\": {\n",
    "            \"stats\": {\n",
    "                \"CURSO\": { \n",
    "                    \"metric\": \"category_count\",\n",
    "                    \"show\": \"text\"\n",
    "                },\n",
    "                \"DESPLAN\": { \n",
    "                    \"metric\": \"category_count\",\n",
    "                    \"show\": \"text\"\n",
    "                },\n",
    "                \"MUNICIPIO\": { \n",
    "                    \"metric\": {\n",
    "                        \"value\": \"category_count\",\n",
    "                    },\n",
    "                    \"show\": \"pie\",\n",
    "\n",
    "\n",
    "                },\n",
    "                \"PROVINCIA\": {\n",
    "                    \"metric\": \"category_count\",\n",
    "                    \"show\": \"text\"\n",
    "\n",
    "                },\n",
    "                \"NOTA_BASE_10\": {\n",
    "                    \"metric\": {\n",
    "                        \"comparison\": {\n",
    "                            \"group\": {\n",
    "                                \"CURSO\": \"Curso del profesor aqui\",\n",
    "                                \"color\": \"red\"\n",
    "                            },\n",
    "                            \"group\": {\n",
    "                                \"CURSO\": \"all\",\n",
    "                                \"color\": \"red\"\n",
    "\n",
    "                            },\n",
    "                            \"metric\": \"distribution\"\n",
    "                        }\n",
    "                    },\n",
    "                    \"show\": {\n",
    "                        \"graph\": \"lines\"\n",
    "                    }\n",
    "                }\n",
    "            }\n",
    "        }\n",
    "    }\n",
    "\n",
    "\n",
    "}\n",
    "\n",
    "user_manager = {\n",
    "    \"nombre_gestor\": {\n",
    "        \"user_knowledge\": {\n",
    "            \"age\": 38,\n",
    "            \"class\": \"manager\",\n",
    "            \"gender\": \"male\"\n",
    "        },\n",
    "\n",
    "        \"profile_knowledge\": {\n",
    "            \"column_stats\": {\n",
    "                \"CURSO\": { \n",
    "                    \"metric\": \"category_count\",\n",
    "                    \"show\": \"text\"\n",
    "                },\n",
    "                \"DESPLAN\": { \n",
    "                    \"metric\": \"category_count\",\n",
    "                    \"show\": \"text\"\n",
    "                },\n",
    "                \"MUNICIPIO\": {\n",
    "                    \"metric\": \"category_count\",\n",
    "                    \"show\": \"text\"\n",
    "\n",
    "                },\n",
    "                \"PROVINCIA\": {\n",
    "                    \"metric\": \"category_count\",\n",
    "                    \"show\": \"text\"\n",
    "\n",
    "                },\n",
    "                \"NOTA_BASE_10\": {\n",
    "                    \"metric\": {\n",
    "                        \"comparison\": { \n",
    "                            \"group\": {\n",
    "                                \"GENERO\": \"H\",\n",
    "                                \"color\": \"blue\"\n",
    "                            },\n",
    "                            \"group\": {\n",
    "                                \"GENERO\": \"M\"\n",
    "                            },\n",
    "                            \"metric\": \"distribution\"\n",
    "                        }\n",
    "                    },\n",
    "                    \"show\": {\n",
    "                        \"graph\": \"lines\"\n",
    "                    }\n",
    "                },\n",
    "                \"GENERO\": {\n",
    "                    \"metric\": {\n",
    "                        \"comparison\": { \n",
    "                            \"group\": {\n",
    "                                \"GENERO\": \"H\",\n",
    "                                \"color\": \"red\"\n",
    "\n",
    "                            },\n",
    "                            \"group\": {\n",
    "                                \"GENERO\": \"M\",\n",
    "                                \"color\": \"blue\"\n",
    "                            },\n",
    "                            \"metric\": \"distribution\"\n",
    "                        }\n",
    "                    },\n",
    "                    \"show\": {\n",
    "                        \"graph\": \"lines\"\n",
    "                    }\n",
    "\n",
    "                }\n",
    "            }\n",
    "        }\n",
    "\n",
    "    }\n",
    "\n",
    "\n",
    "}"
   ]
  },
  {
   "cell_type": "code",
   "execution_count": null,
   "metadata": {},
   "outputs": [],
   "source": []
  },
  {
   "cell_type": "code",
   "execution_count": null,
   "metadata": {},
   "outputs": [],
   "source": []
  }
 ],
 "metadata": {
  "kernelspec": {
   "display_name": "Python 3",
   "language": "python",
   "name": "python3"
  },
  "language_info": {
   "codemirror_mode": {
    "name": "ipython",
    "version": 3
   },
   "file_extension": ".py",
   "mimetype": "text/x-python",
   "name": "python",
   "nbconvert_exporter": "python",
   "pygments_lexer": "ipython3",
   "version": "3.6.7"
  }
 },
 "nbformat": 4,
 "nbformat_minor": 2
}
