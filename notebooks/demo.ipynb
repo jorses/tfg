{
 "cells": [
  {
   "cell_type": "markdown",
   "metadata": {},
   "source": [
    "\n",
    "# Libraries and Tools used"
   ]
  },
  {
   "cell_type": "code",
   "execution_count": 1,
   "metadata": {},
   "outputs": [
    {
     "name": "stderr",
     "output_type": "stream",
     "text": [
      "/Users/brick/anaconda3/lib/python3.6/site-packages/h5py/__init__.py:34: FutureWarning: Conversion of the second argument of issubdtype from `float` to `np.floating` is deprecated. In future, it will be treated as `np.float64 == np.dtype(float).type`.\n",
      "  from ._conv import register_converters as _register_converters\n"
     ]
    }
   ],
   "source": [
    "\"\"\"Our graphical elements are going to be done with matplotlib, inline graphs\"\"\"\n",
    "%matplotlib inline\n",
    "import matplotlib.pyplot as plt\n",
    "\n",
    "\"\"\"CSV: utility to work with the most common format for datastorage : Comma Separated Values\"\"\"\n",
    "import csv\n",
    "\n",
    "\"\"\"JSON: utility to work with JavaScript Object Notation, the original information format storage we \"\"\"\n",
    "import json\n",
    "from collections import namedtuple\n",
    "\n",
    "\"\"\"Pandas: python's most used library to work with datasets\"\"\"\n",
    "import pandas as pd \n",
    "\n",
    "\"\"\" Type detection for our dataframe \"\"\"\n",
    "from pandas.api.types import (\n",
    "    is_categorical_dtype,\n",
    "    is_datetime64_dtype,\n",
    "    is_object_dtype,\n",
    "    is_numeric_dtype,\n",
    "    is_string_dtype\n",
    ")\n",
    "\n",
    "\"\"\"Numpy: python's most used library to work with large amounts of numbers\"\"\"\n",
    "import numpy as np\n",
    "\"\"\"OS: utility to work with paths and file openings independently of operating system\"\"\"\n",
    "import os\n",
    "\"\"\"Glob: used to look for file extensions inside given folders\"\"\"\n",
    "import glob \n",
    "\n",
    "\"\"\"Candidates for ML predictive model implementations\"\"\"\n",
    "import tensorflow as tf\n",
    "import sklearn\n",
    "import catboost"
   ]
  },
  {
   "cell_type": "markdown",
   "metadata": {},
   "source": [
    "# The Storage module\n",
    "\n",
    "### Methods \n",
    "\n",
    "#### __init__\n",
    "#### print_info\n",
    "#### from_json\n",
    "#### to_json\n",
    "#### update_stats\n",
    "#### load_from_dataframe\n"
   ]
  },
  {
   "cell_type": "code",
   "execution_count": 216,
   "metadata": {},
   "outputs": [],
   "source": [
    "class StoreDomain():\n",
    "    \n",
    "    def __init__(self, attribute_list, path=os.getcwd(), domain_name=None):\n",
    "        \"\"\" Handy initialization \"\"\"\n",
    "        self.load(attribute_list, path, domain_name)\n",
    "        \n",
    "    def load(self, attribute_list, path, domain_name):\n",
    "        \"\"\" Given a dataset searches for a domain in the specified folder.\n",
    "            If found, loads it into the class itself. If not found loads an empty template.\n",
    "        \"\"\"\n",
    "        for fnm in glob.glob(os.path.join(path,\"*.json\")):\n",
    "            with open(fnm) as f:\n",
    "                data = json.load(f)\n",
    "            if data[\"attribute_list\"] == attribute_list:\n",
    "                self.modify(data)\n",
    "                self.fnm = fnm\n",
    "                break;\n",
    "                        \n",
    "        if not hasattr(self,\"fnm\"):\n",
    "            print(\"No matching knowledge found for your domain, setting an empty one\")\n",
    "            self.attribute_list = attribute_list\n",
    "            self.domain_name = domain_name or str(attribute_list)\n",
    "            self.knowledge = {\n",
    "                \"dataset_stats\" : {},\n",
    "                \"column_stats\": {}\n",
    "            }\n",
    "            self.fnm = glob.glob(os.path.join( path, str(self.domain_name)+\".json\") )\n",
    "                    \n",
    "    def save(self):\n",
    "        \"\"\" Saves itself as an object in .json format\n",
    "        \"\"\"\n",
    "        print(\"\" \"\", self.fnm)\n",
    "        with open(self.fnm,'w') as f:\n",
    "            json.dump(self.__dict__, f)\n",
    "            \n",
    "    def modify(self,data):\n",
    "        \"\"\" Modifies the class from a physical representation (dict) of it\n",
    "        \"\"\"   \n",
    "        self.domain_name = data[\"domain_name\"] if \"domain_name\" in data else self.domain_name\n",
    "        self.attribute_list = data[\"attribute_list\"] if \"attribute_list\" in data else self.attribute_list\n",
    "        self.knowledge = data[\"knowledge\"] if \"knowledge\" in data else self.knowledge\n",
    "        self.fnm = data[\"fnm\"] if \"fnm\" in data else self.fnm\n",
    "\n",
    "    def print_info(self):\n",
    "        \"\"\" Util to print attributes\n",
    "        \"\"\"\n",
    "        print(self.__dict__)\n"
   ]
  },
  {
   "cell_type": "markdown",
   "metadata": {},
   "source": [
    "# The JSON\n",
    "&nbsp;\n",
    "\n",
    " This object is used to represent the raw information stored.\n",
    "\n",
    " It contains statistics and properties from both statistics and datasets, different to different types, as well as how they were measured (by saving the function to be called on a pandas dataset in the case of a dataset stat, or on the values themselves in the case of a function stat).\n",
    "\n",
    " Saving how they're measured is important to measure new datasets and to be able to compare metrics effectively.\n",
    "\n",
    " Both the column specific stats and the dataset stats are subjective to change, and the knowledgedomain object can be modified and adapted to fit new parameters easily.\n",
    "\n",
    " This structure is generated for a single dataset and then combined with the domain one to take account of the new one.\n",
    "\n"
   ]
  },
  {
   "cell_type": "code",
   "execution_count": null,
   "metadata": {
    "collapsed": true
   },
   "outputs": [],
   "source": [
    "KNOWLEDGE_STRUCTURE = {\n",
    "    \"dataset_stats\": {\n",
    "        \"individuals\": 0,\n",
    "        \"max_rows\": {\n",
    "            \"value\": 1400,\n",
    "            \"metric\" : \"count_rows_null\",\n",
    "        }, # alert if new rows are <<<, as different results are skewed\n",
    "        \"avg_rows\": {\n",
    "            \"value\": 1400,\n",
    "            \"metric\" : \"count_rows_null\"\n",
    "        },\n",
    "        \"full_rows\": {\n",
    "            \"value\": 0.97\n",
    "        }\n",
    "    },\n",
    "    \"column_stats\": {\n",
    "        \"a\": {\n",
    "            \"type\": \"numeric\",\n",
    "            \"stats\": {\n",
    "                \"median\": 12.6,\n",
    "                \"std_dev\": 1.3,\n",
    "                \"max\": 25.5,\n",
    "                \"min\": 2.3,\n",
    "                \"NaNs\": 0.02 # as % of dataset\n",
    "            }     \n",
    "        },\n",
    "        \"b\": {\n",
    "            \"type\": \"categorical\",\n",
    "            \"stats\": {\n",
    "                \"most_frequent\": \"cat\",\n",
    "                \"values\": {\n",
    "                    \"cat\": 0.2,\n",
    "                    \"dog\": 0.6\n",
    "                },\n",
    "                \"nan\": 0.1\n",
    "            }\n",
    "            \n",
    "        }\n",
    "\n",
    "    }\n",
    "}\n"
   ]
  },
  {
   "cell_type": "markdown",
   "metadata": {},
   "source": [
    "# The analysis module\n",
    "## Metrics"
   ]
  },
  {
   "cell_type": "code",
   "execution_count": 3,
   "metadata": {},
   "outputs": [],
   "source": [
    "\"\"\" The purpose of these functions is to provide a way to measure the properties of a given dataset or knowledge domain.\n",
    "    We can categorize them as follows:\n",
    "    First the \"measurement\" metrics, used to get the information of a single dataset or domain.\n",
    "    \n",
    "    - Dataset Metrics : they concern the dataset as a whole, like number of rows with missing values.\n",
    "        dm :: (ds) --> num\n",
    "        \n",
    "    - Single Column Metrics : they concern a certain column, and are based on the type of the column.\n",
    "      For numerical columns we will have things like median, averages, deviations, distributions...\n",
    "      For categorical columns we'll work with frequencies and things of the sort.\n",
    "        scm :: (col) --> num\n",
    "        \n",
    "    - Multiple Column Metrics : we will be looking for correlations and things of that sort.\n",
    "       scm :: (col,col) --> num \n",
    "       Time based metrics will be defined from this construct.\n",
    "    \n",
    "    We will also have \"comparison\" metrics, used to compare datasets against their domains.\n",
    "    These metrics will compare the output of two measurement metrics, both will have to\n",
    "    spawn from the same function.\n",
    "        comp_m :: (metric) --> num\n",
    "    \n",
    "    Note that these metrics are not to provide \"meaning\" or any human-readable input, nor to be\n",
    "    inherently comparable between each other outside of a framework of understanding of the domain\n",
    "    (metric importance).\n",
    "    \n",
    "    A mean to convert these machine cold metrics into human understanding will be provided in further \n",
    "    modules. For now, we're not taking humans into account.\n",
    "\"\"\"\n",
    "\n",
    "\"\"\" Dataset Metrics \"\"\"\n",
    "\n",
    "def count_rows_null(df):\n",
    "    return df.isnull().shape(0)\n",
    "\n",
    "\"\"\" Columns \"\"\"\n",
    "\n",
    "\"\"\" For consistency, every column is accepted as a pandas Series \"\"\"\n",
    "\"\"\" Numeric, accepted as pandas Series \"\"\"\n",
    "\n",
    "def median(col):\n",
    "    return np.median(col.values)\n",
    "\n",
    "def average(col):\n",
    "    return np.average(col.values)\n",
    "\n",
    "\n",
    "\n",
    "\"\"\" All types \"\"\"\n",
    "\n",
    "def count_not_null(col):\n",
    "    return np.count_nonzero(~np.isnan(data))\n",
    "\n",
    "def count_null(col):\n",
    "    return col.size - count_not_null(col)\n",
    "\n",
    "\n",
    "\n",
    "\"\"\" Categorical \"\"\"\n",
    "\n",
    "def count_freqs(col):\n",
    "    return 1.2\n",
    "def count_nans(col):\n",
    "    return 0.9\n",
    "\n"
   ]
  },
  {
   "cell_type": "markdown",
   "metadata": {},
   "source": [
    "## Utility functions"
   ]
  },
  {
   "cell_type": "code",
   "execution_count": 217,
   "metadata": {},
   "outputs": [],
   "source": [
    "def median_raw(a):\n",
    "    return np.median(a)\n",
    "def most_frequent(a):\n",
    "    return np.bincount(a).argmax()\n",
    "IS_DTYPE = {\n",
    "    \"number\": is_numeric_dtype,\n",
    "    \"category\": is_categorical_dtype,\n",
    "    \"datetime\": is_datetime64_dtype,\n",
    "}\n",
    "\n",
    "DEFAULT_METRICS = { #(type,comparison_metric)\n",
    "    \"numerical\" : median_raw,\n",
    "    \"categorical\": most_frequent,\n",
    "    \"dataset\" : {\n",
    "        \"count_rows\":{\n",
    "            \"metric\": 2\n",
    "        },\n",
    "        \"rows_with_nulls\":{\n",
    "            \"metric\": 3\n",
    "        }\n",
    "    }\n",
    "}\n",
    "\n",
    "COMPARISON_METRICS = { #(metric(name of a function) , comparison_metric)\n",
    "    \n",
    "}"
   ]
  },
  {
   "cell_type": "code",
   "execution_count": 218,
   "metadata": {},
   "outputs": [],
   "source": [
    "class DatasetAnalyzer():\n",
    "    \n",
    "    def __init__(self, df, path):\n",
    "        self.dataset = df            \n",
    "        self.std = StoreDomain(df.name, domain_name=list(df.columns), path=path)\n",
    "        self.domain_knowledge = self.std.knowledge\n",
    "        self.dataset_knowledge = self.get_stats(df)\n",
    "        \n",
    "    def get_stats(self, df):\n",
    "        \"\"\" Populates the stats dictionary \"\"\"\n",
    "        return {\n",
    "            \"column_stats\": self.get_column_stats(df),\n",
    "            \"dataset_stats\": self.get_dataset_stats(df)\n",
    "        }\n",
    "        #if k has been correctly created it is assumed to have a metric field\n",
    "        return stats\n",
    "    \n",
    "    def get_column_stats(self,df):\n",
    "        \"\"\" Column stats \"\"\"\n",
    "\n",
    "        stats = {}\n",
    "        col_types = self.get_column_types(df)\n",
    "        \n",
    "        for c in self.get_column_types(df):\n",
    "            if c in self.domain_knowledge[\"column_stats\"]:\n",
    "                func = globals()[self.domain_knowledge[\"column_stats\"][c][\"metric\"]]\n",
    "            else:\n",
    "                func = DEFAULT_METRICS[col_types[c]]\n",
    "                \n",
    "            stats[c] = {\n",
    "                    \"metric\" : func.__name__,\n",
    "                    \"value\" : func(df[c].values)\n",
    "            }\n",
    "            \n",
    "        return stats\n",
    "    \n",
    "    def get_dataset_stats(self,df):\n",
    "        \"\"\" Dataset stats \"\"\"\n",
    "        stats = {}\n",
    "        dataset_metrics = self.domain_knowledge[\"dataset_stats\"]\n",
    "        for m in dataset_metrics:\n",
    "            stats[m] = {\n",
    "                \"metric\": globals()[dataset_metrics[m][\"metric\"]],\n",
    "                \"value\": globals()[dataset_metrics[m][\"metric\"]](df)\n",
    "            }\n",
    "            \n",
    "        return stats\n",
    "    \n",
    "    def get_column_types(self, df):\n",
    "        \"\"\" Get column types \"\"\"\n",
    "        col_types = {}\n",
    "        for c in df.columns:\n",
    "            col_types[c] = \"numerical\" if IS_DTYPE['number'](df[c].dtype) else \"categorical\"\n",
    "            \n",
    "        return col_types\n",
    "    \n",
    "    def fill_d1_with_d2(self, d1, d2):\n",
    "        \"\"\"Add extra stats from d2 (default) to d1 (our dict)\"\"\"\n",
    "        for key in d2:\n",
    "            if (key in d1 and isinstance(d1[key], dict) and isinstance(d2[key], dict)):\n",
    "                self.deep_merge_dicts(d1[key], d2[key])\n",
    "            else:\n",
    "                d1[key] = d2[key]\n",
    "\n",
    "    def get_analysis(self): #generates report, saves it in self.report AND returns it.\n",
    "        \"\"\" This method will return a JSON containing the comparison between the dataset knowledge\n",
    "            and the domain knowledge\n",
    "        \"\"\"    \n",
    "\n",
    "        col_stats_comparison = {\n",
    "            \"column_stats\": self.compare_stats(self.domain_knowledge[\"column_stats\"], self.dataset_knowledge[\"column_stats\"])\n",
    "        }\n",
    "        \n",
    "        dataset_stats_comparison = {\n",
    "            \"dataset_stats\": self.compare_stats(self.domain_knowledge[\"dataset_stats\"], self.dataset_knowledge[\"dataset_stats\"])\n",
    "        }\n",
    "        \n",
    "        return dict(col_stats_comparison, **dataset_stats_comparison)\n",
    "    \n",
    "    def compare_stats(self,stats1, stats2):\n",
    "        \"\"\" Compares two dictionaries with the same structure \"\"\"\n",
    "        comparison = {}\n",
    "\n",
    "        if stats1:\n",
    "            for c in stats1:\n",
    "                if(stats1[c][\"metric\"] == stats1[c][\"metric\"]):\n",
    "                    #TODO: use a real comparison metric\n",
    "                    comparison[c] = stats2[c][\"value\"] - stats2[c][\"value\"]\n",
    "            return comparison\n",
    "        else:\n",
    "            return stats2\n",
    "    \n",
    "    def update_stats(self): \n",
    "        new_stats = {}\n",
    "        #TODO : customize this so weights can be other things aswell\n",
    "        n = self.domain_knowledge[\"n\"]\n",
    "        for c in self.dataset_knowledge:\n",
    "            self.domain_knowledge[c][\"value\"] = (n * self.domain_knowledge[c][\"value\"] + self.dataset_knowledge[c][\"value\"]) / (n + 1)\n",
    "        \n",
    "        #TODO : customize this so you're able to take into account the number of rows\n",
    "        self.domain_knowledge[\"n\"] = n + 1\n",
    "        \n",
    "        #Save the information\n",
    "        self.std.knowledge = self.domain_knowledge\n"
   ]
  },
  {
   "cell_type": "markdown",
   "metadata": {},
   "source": [
    "# CBR Database"
   ]
  },
  {
   "cell_type": "code",
   "execution_count": 219,
   "metadata": {},
   "outputs": [],
   "source": [
    "class StoreCBR(StoreDomain):\n",
    "    \"\"\" StoreDomain but for human knowledge. Extends StoreDomain to add profile functionality\n",
    "        and CBR-based behaviour.\n",
    "        Each storecbr is tied to a profile and it can only modify it\n",
    "    \"\"\"\n",
    "    def __init__(self, attribute_list, profile, path, domain_name=None):\n",
    "        \"\"\" Handy initialization \"\"\"\n",
    "        self.load(attribute_list, profile, path, domain_name)\n",
    "        \n",
    "    def load(self, attribute_list, profile, path, domain_name):\n",
    "        \"\"\" Given a dataset searches for a domain in the specified folder(s) and loads\n",
    "        \"\"\"\n",
    "        for fnm in glob.glob(os.path.join(path,\"*.json\")):\n",
    "            with open(fnm) as f:\n",
    "                data = json.load(f)\n",
    "            if data[\"attribute_list\"] == attribute_list:\n",
    "                self.profile = profile\n",
    "                self.domain_name = data[\"domain_name\"] if \"domain_name\" in data else str(attribute_list)\n",
    "                self.attribute_list = data[\"attribute_list\"] if \"attribute_list\" in data else self.attribute_list\n",
    "                self.profiles = data[\"profiles\"] \n",
    "                self.fnm = fnm\n",
    "                break;\n",
    "                        \n",
    "        if not hasattr(self,\"fnm\"):\n",
    "            self.set_defaults(domain_name ,attribute_list, path, profile)\n",
    "            \n",
    "    def set_defaults(self, domain_name ,attribute_list, path, profile):\n",
    "        \"\"\"\n",
    "        \"\"\"\n",
    "        self.domain_name = domain_name or attribute_list\n",
    "        self.attribute_list = attribute_list\n",
    "        self.profile = profile\n",
    "\n",
    "        self.fnm = glob.glob(os.path.join( path, self.domain_name+\".json\") )\n",
    "        self.knowledge = {\n",
    "            \"profiles\": {}\n",
    "        }\n",
    "        self.knowledge[\"profiles\"][profile] = {\n",
    "            \"profile_knowledge\" : {}\n",
    "        }\n",
    "        \n",
    "    def modify(self, new_info):\n",
    "        self.profiles[self.profile] = new_info\n",
    "        \n",
    "    def run_tournament(self): pass\n",
    "    \"\"\"ELO \"\"\"    \n",
    "    def interaction_learning(self): pass\n",
    "    \"\"\" despues\"\"\""
   ]
  },
  {
   "cell_type": "markdown",
   "metadata": {},
   "source": [
    "# Reporter"
   ]
  },
  {
   "cell_type": "code",
   "execution_count": 220,
   "metadata": {},
   "outputs": [],
   "source": [
    "\"\"\" \n",
    "    Another kind of information is stored about the domains. This is the \n",
    "    information concerning the **human** side of things, that is, **how** \n",
    "    to interpret these stats and turn them into something that humans with different levels of \n",
    "    familiarity can understand.\n",
    "    To do this, we provide use another storage class that will contain human-relevant data that\n",
    "    will modify the objective comparison delivered by the analysis module.\n",
    "\"\"\"\n",
    "\n",
    "class Reporter():\n",
    "    \n",
    "    def __init__(self, df, profile, domain_path, human_knowledge_path):\n",
    "        self.profile = profile\n",
    "        self.dsa = DatasetAnalyzer(df, path=domain_path)\n",
    "        self.scbr = StoreCBR(list(df.columns), profile, path=human_knowledge_path, domain_name=df.name)\n",
    "        self.generate()\n",
    "        \n",
    "    def generate(self):\n",
    "\n",
    "        self.analysis = self.dsa.get_analysis()\n",
    "        self.human_knowledge = self.scbr.profiles[self.scbr.profile][\"knowledge\"]\n",
    "        self.report = {\"dataset\":{},\"columns\":{},\"colors\":{}}\n",
    "        \n",
    "        for k in self.analysis[\"dataset_stats\"].keys():\n",
    "            self.report[\"dataset\"][k] = {\n",
    "                \"value\": self.analysis[\"dataset_stats\"][k][\"value\"] * self.human_knowledge[\"dataset_stats\"][k][\"value\"]\n",
    "            }\n",
    "\n",
    "        for k in self.analysis[\"column_stats\"].keys():\n",
    "            self.report[\"columns\"][k] = {\n",
    "                \"value\": self.analysis[\"column_stats\"][k][\"value\"] * self.human_knowledge[\"column_stats\"][k][\"value\"]\n",
    "            }\n",
    "\n",
    "        for k in self.human_knowledge[\"colors\"].keys():\n",
    "            self.report[\"colors\"][k] = {\n",
    "                \"value\" : \"blue\"\n",
    "            }\n",
    "    def modify(self,new_info):\n",
    "        self.human_info.modify(new_info)\n",
    "    def save_human_info(self,new_info):\n",
    "        self.human_info.save(new_info)"
   ]
  },
  {
   "cell_type": "markdown",
   "metadata": {},
   "source": [
    "# Cardio Test"
   ]
  },
  {
   "cell_type": "code",
   "execution_count": 224,
   "metadata": {},
   "outputs": [
    {
     "name": "stdout",
     "output_type": "stream",
     "text": [
      "No matching knowledge found for your domain, setting an empty one\n",
      "CPU times: user 135 ms, sys: 35.3 ms, total: 170 ms\n",
      "Wall time: 176 ms\n"
     ]
    }
   ],
   "source": [
    "%%time\n",
    "df = pd.read_csv(\"data/cardio_train.csv\",sep=\";\")\n",
    "df.name = \"medical_data\"\n",
    "\n",
    "#Set cols as categorical\n",
    "cat_cols = [\"cholesterol\", \"gluc\", \"smoke\",  \"alco\", \"active\", \"cardio\", \"gender\"]\n",
    "\n",
    "for c in cat_cols:\n",
    "    df[c] = df[c].astype(\"category\")\n",
    "df.head()\n",
    "repo = Reporter(df, profile=\"patient\", domain_path=\"./domain_storage/\", human_knowledge_path=\"./human_storage/\")\n"
   ]
  },
  {
   "cell_type": "code",
   "execution_count": 225,
   "metadata": {},
   "outputs": [
    {
     "data": {
      "text/plain": [
       "{'colors': {'active': {'value': 'blue'},\n",
       "  'age': {'value': 'blue'},\n",
       "  'alco': {'value': 'blue'},\n",
       "  'ap_hi': {'value': 'blue'},\n",
       "  'ap_lo': {'value': 'blue'},\n",
       "  'cardio': {'value': 'blue'},\n",
       "  'cholesterol': {'value': 'blue'},\n",
       "  'gender': {'value': 'blue'},\n",
       "  'gluc': {'value': 'blue'},\n",
       "  'height': {'value': 'blue'},\n",
       "  'id': {'value': 'blue'},\n",
       "  'smoke': {'value': 'blue'},\n",
       "  'weight': {'value': 'blue'}},\n",
       " 'columns': {'active': {'value': 0.3},\n",
       "  'age': {'value': 6758.129000000001},\n",
       "  'alco': {'value': 0.0},\n",
       "  'ap_hi': {'value': 27.6},\n",
       "  'ap_lo': {'value': 18.400000000000002},\n",
       "  'cardio': {'value': 0.0},\n",
       "  'cholesterol': {'value': 0.3},\n",
       "  'gender': {'value': 0.245},\n",
       "  'gluc': {'value': 0.3},\n",
       "  'height': {'value': 23.924999999999997},\n",
       "  'id': {'value': 23500.704999999998},\n",
       "  'smoke': {'value': 0.0},\n",
       "  'weight': {'value': 10.44}},\n",
       " 'dataset': {}}"
      ]
     },
     "execution_count": 225,
     "metadata": {},
     "output_type": "execute_result"
    }
   ],
   "source": [
    "repo.report"
   ]
  },
  {
   "cell_type": "markdown",
   "metadata": {},
   "source": [
    "# Diabetic Test"
   ]
  },
  {
   "cell_type": "code",
   "execution_count": 221,
   "metadata": {},
   "outputs": [
    {
     "name": "stdout",
     "output_type": "stream",
     "text": [
      "No matching knowledge found for your domain, setting an empty one\n",
      "CPU times: user 14 ms, sys: 3.95 ms, total: 17.9 ms\n",
      "Wall time: 20.3 ms\n"
     ]
    }
   ],
   "source": [
    "%%time\n",
    "df = pd.read_csv(\"data/diabetic.csv\")\n",
    "df = df.fillna(0)\n",
    "df.name = \"diabetic\"\n",
    "del df[\"Notes\"]\n",
    "del df[\"ID\"]\n",
    "cat_cols = [\"week\",\"weekday\"]\n",
    "for c in cat_cols:\n",
    "    df[c] = df[c].astype(\"category\")\n",
    "df.head()\n",
    "repo = Reporter(df, profile=\"patient\", domain_path=\"./domain_storage/\", human_knowledge_path=\"./human_storage/\")\n"
   ]
  },
  {
   "cell_type": "code",
   "execution_count": 222,
   "metadata": {},
   "outputs": [
    {
     "data": {
      "text/plain": [
       "{'colors': {'M0700': {'value': 'blue'},\n",
       "  'M0930': {'value': 'blue'},\n",
       "  'M1300': {'value': 'blue'},\n",
       "  'M1500': {'value': 'blue'},\n",
       "  'M1800': {'value': 'blue'},\n",
       "  'M2000': {'value': 'blue'},\n",
       "  'M2300': {'value': 'blue'},\n",
       "  'i0700': {'value': 'blue'},\n",
       "  'i0930': {'value': 'blue'},\n",
       "  'i1300': {'value': 'blue'},\n",
       "  'i1500': {'value': 'blue'},\n",
       "  'i1800': {'value': 'blue'},\n",
       "  'i2300': {'value': 'blue'},\n",
       "  'week': {'value': 'blue'},\n",
       "  'weekday': {'value': 'blue'}},\n",
       " 'columns': {'M0700': {'value': 24.0},\n",
       "  'M0930': {'value': 15.899999999999999},\n",
       "  'M1300': {'value': 19.5},\n",
       "  'M1500': {'value': 18.9},\n",
       "  'M1800': {'value': 12.299999999999999},\n",
       "  'M2000': {'value': 18.6},\n",
       "  'M2300': {'value': 0.0},\n",
       "  'i0700': {'value': 12.0},\n",
       "  'i0930': {'value': 0.0},\n",
       "  'i1300': {'value': 14.399999999999999},\n",
       "  'i1500': {'value': 0.0},\n",
       "  'i1800': {'value': 18.0},\n",
       "  'i2300': {'value': 0.0},\n",
       "  'week': {'value': 3},\n",
       "  'weekday': {'value': 3}},\n",
       " 'dataset': {}}"
      ]
     },
     "execution_count": 222,
     "metadata": {},
     "output_type": "execute_result"
    }
   ],
   "source": [
    "repo.report"
   ]
  },
  {
   "cell_type": "markdown",
   "metadata": {},
   "source": [
    "# Heart test"
   ]
  },
  {
   "cell_type": "code",
   "execution_count": 205,
   "metadata": {},
   "outputs": [
    {
     "name": "stdout",
     "output_type": "stream",
     "text": [
      "No matching knowledge found for your domain, setting an empty one\n",
      "CPU times: user 17.8 ms, sys: 3.12 ms, total: 20.9 ms\n",
      "Wall time: 19.9 ms\n"
     ]
    }
   ],
   "source": [
    "%%time\n",
    "df = pd.read_csv(\"data/heart.csv\")\n",
    "\n",
    "df.name = \"heart\"\n",
    "cat_cols = [\"sex\",\"cp\", \"fbs\", \"restecg\", \"exang\", \"slope\", \"ca\", \"thal\", \"target\"]\n",
    "for c in cat_cols:\n",
    "    df[c] = df[c].astype(\"category\")\n",
    "df.head()\n",
    "repo = Reporter(df, profile=\"patient\", domain_path=\"./domain_storage/\", human_knowledge_path=\"./human_storage/\")\n"
   ]
  },
  {
   "cell_type": "code",
   "execution_count": 206,
   "metadata": {},
   "outputs": [
    {
     "data": {
      "text/plain": [
       "{'colors': {'M0700': {'value': 'blue'},\n",
       "  'M0930': {'value': 'blue'},\n",
       "  'M1300': {'value': 'blue'},\n",
       "  'M1500': {'value': 'blue'},\n",
       "  'M1800': {'value': 'blue'},\n",
       "  'M2000': {'value': 'blue'},\n",
       "  'M2300': {'value': 'blue'},\n",
       "  'i0700': {'value': 'blue'},\n",
       "  'i0930': {'value': 'blue'},\n",
       "  'i1300': {'value': 'blue'},\n",
       "  'i1500': {'value': 'blue'},\n",
       "  'i1800': {'value': 'blue'},\n",
       "  'i2300': {'value': 'blue'},\n",
       "  'week': {'value': 'blue'},\n",
       "  'weekday': {'value': 'blue'}},\n",
       " 'columns': {'age': {'value': 165.0},\n",
       "  'ca': {'value': 0},\n",
       "  'chol': {'value': 720.0},\n",
       "  'cp': {'value': 0},\n",
       "  'exang': {'value': 0},\n",
       "  'fbs': {'value': 0},\n",
       "  'oldpeak': {'value': 2.4000000000000004},\n",
       "  'restecg': {'value': 3},\n",
       "  'sex': {'value': 3},\n",
       "  'slope': {'value': 6},\n",
       "  'target': {'value': 3},\n",
       "  'thal': {'value': 6},\n",
       "  'thalach': {'value': 459.0},\n",
       "  'trestbps': {'value': 390.0}},\n",
       " 'dataset': {}}"
      ]
     },
     "execution_count": 206,
     "metadata": {},
     "output_type": "execute_result"
    }
   ],
   "source": [
    "repo.report"
   ]
  },
  {
   "cell_type": "markdown",
   "metadata": {},
   "source": [
    "# Frontend module\n",
    "Logic-free, just turns an information json to a user-readable report with images, which then prints out for the user to see."
   ]
  },
  {
   "cell_type": "code",
   "execution_count": null,
   "metadata": {
    "collapsed": true
   },
   "outputs": [],
   "source": [
    "class TextTemplates:\n",
    "    def __init__(self):\n",
    "    def red_json(self,):\n",
    "PRETTY_JSON = {\n",
    "    \"graphs\": {\n",
    "        \"some_col\":{\n",
    "            \"type\" : \"bars\",\n",
    "            \"cat_colors\" : {\n",
    "                \"cat\" : \"red\",\n",
    "                \"dog\" : \"blue\",\n",
    "            },\n",
    "            \"bg_color\" : \"white\"\n",
    "        }\n",
    "    },\n",
    "    \"text\" : {\n",
    "        \"some_col_avg\" : {\n",
    "            \"reason\" : \"high\",\n",
    "            \"number_ds\" : 1.3,\n",
    "            \"number_domain\": 0.2\n",
    "        }\n",
    "    }\n",
    "}"
   ]
  },
  {
   "cell_type": "code",
   "execution_count": 10,
   "metadata": {
    "collapsed": true
   },
   "outputs": [],
   "source": [
    "GRAPH_CLASSES = {\n",
    "    \"bars\" : \"asdasd\",\n",
    "    \"pie\" : \"asdasd\",\n",
    "    \"timeline\" : \"\"\n",
    "    #etc\n",
    "}\n",
    "class FrontEnd:\n",
    "    def __init__(self, config):\n",
    "        \"\"\"Self explaining, associate graph with \"\"\"\n",
    "        #self.graphs_config = config[\"graphs\"]\n",
    "       # self.text_config = config[\"text\"]\n",
    "    def generate_graphs(self):\n",
    "        for config in self.graphs_config:\n",
    "            print(config)\n",
    "    def generate_text(self):\n",
    "        for config in self.text_config:\n",
    "            print()\n",
    "        #text things\n",
    "        #graphical things\n",
    "        pass"
   ]
  },
  {
   "cell_type": "markdown",
   "metadata": {},
   "source": []
  },
  {
   "cell_type": "code",
   "execution_count": 15,
   "metadata": {
    "collapsed": true
   },
   "outputs": [],
   "source": [
    "\n"
   ]
  },
  {
   "cell_type": "code",
   "execution_count": 13,
   "metadata": {},
   "outputs": [
    {
     "name": "stdout",
     "output_type": "stream",
     "text": [
      "henlo\n"
     ]
    }
   ],
   "source": [
    "EXEC_PARAMS = {\n",
    "    \"domain_name\" : \"animals\",\n",
    "    \"attribute_list\": [] ,\n",
    "    \"knowledge\" : {}\n",
    "}\n",
    "if __name__ == \"__main__\":\n",
    "    \"\"\"First we read our data\"\"\"\n",
    "    df = pd.read_csv(\"nonsense.csv\")\n",
    "    #Do everything from the reporter class to get the report\n",
    "    #Feed the report to the frontend class for the pretty representation\n",
    "    print(\"henlo\")"
   ]
  }
 ],
 "metadata": {
  "kernelspec": {
   "display_name": "Python 3",
   "language": "python",
   "name": "python3"
  },
  "language_info": {
   "codemirror_mode": {
    "name": "ipython",
    "version": 3
   },
   "file_extension": ".py",
   "mimetype": "text/x-python",
   "name": "python",
   "nbconvert_exporter": "python",
   "pygments_lexer": "ipython3",
   "version": "3.6.7"
  }
 },
 "nbformat": 4,
 "nbformat_minor": 2
}
