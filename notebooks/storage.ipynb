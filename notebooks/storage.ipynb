{
 "cells": [
  {
   "cell_type": "markdown",
   "metadata": {},
   "source": [
    "# The Storage module\n",
    "    The purpose of this class is to represent a knowledge domain, aka a dataset with fixed columns and stats about its properties.\n",
    "It provides the following functionality:\n",
    "## first initialization\n",
    "    To create a new domain, we must provide it with a name and an attribute list (of the columns the dataset will be identified from). Optionally, we can give it initial \"knowledge\" of the domain, or just let it initialize itself empty.\n",
    "## from_json\n",
    "    Provides a way to load all the information from a json storage file to a KnowledgeDomain class to be used by the \n",
    "## to_json\n",
    "    Provides a way to store our object once the analysis has been performed"
   ]
  },
  {
   "cell_type": "code",
   "execution_count": 5,
   "metadata": {},
   "outputs": [],
   "source": [
    "import csv\n",
    "import json\n",
    "import pandas as pd\n",
    "\n",
    "class KnowledgeDomain:\n",
    "    \n",
    "    def __init__(self, domain_name, attribute_list, knowledge={}):\n",
    "        self.info = domain_name\n",
    "        self.attribute_list = attribute_list\n",
    "        self.knowledge = knowledge\n",
    "                \n",
    "    def update_stats(self, stats):\n",
    "        return 0\n",
    "    def to_json(self):\n",
    "        return 0\n",
    "    def from_json(self):\n",
    "        return 0"
   ]
  },
  {
   "cell_type": "markdown",
   "metadata": {},
   "source": [
    "# The JSON\n",
    "&nbsp;\n",
    "\n",
    " This object is used to represent the raw information stored.\n",
    "\n",
    " It contains statistics and properties from both statistics and datasets, different to different types, as well as how they were measured (by saving the function to be called on a pandas dataset in the case of a dataset stat, or on the values themselves in the case of a function stat).\n",
    "\n",
    " Saving how they're measured is important to measure new datasets and to be able to compare metrics effectively.\n",
    "\n",
    " Both the column specific stats and the dataset stats are subjective to change, and the knowledgedomain object can be modified and adapted to fit new parameters easily.\n",
    "\n",
    " This structure is generated for a single dataset and then combined with the domain one to take account of the new one.\n",
    "\n"
   ]
  },
  {
   "cell_type": "code",
   "execution_count": 9,
   "metadata": {},
   "outputs": [],
   "source": [
    "KNOWLEDGE_STRUCTURE = {\n",
    "    \"dataset_stats\": {\n",
    "        \"individuals\": 0,\n",
    "        \"max_rows\": {\n",
    "            \"value\": 1400,\n",
    "            \"metric\" : \"count_rows_null\",\n",
    "        }, # alert if new rows are <<<, as different results are skewed\n",
    "        \"avg_rows\": {\n",
    "            \"value\": 1400,\n",
    "            \"metric\" : \"count_rows_null\"\n",
    "        },\n",
    "        \"full_rows\": {\n",
    "            \n",
    "        }\n",
    "    },\n",
    "    \"column_stats\": {\n",
    "        \"some_numeric_column\": {\n",
    "            \"type\": \"numeric\",\n",
    "            \"color\": \"blue\",\n",
    "            \"stats\": {\n",
    "                \"median\": 12.6,\n",
    "                \"std_dev\": 1.3,\n",
    "                \"max\": 25.5,\n",
    "                \"min\": 2.3,\n",
    "                \"NaNs\": 0.02 # as % of dataset\n",
    "            }\n",
    "            \n",
    "        },\n",
    "        \"some_categorical_column\": {\n",
    "            \"type\": \"categorical\",\n",
    "            \"color\": \"red\",\n",
    "            \"stats\": {\n",
    "                \"most_frequent\": \"cat\",\n",
    "                \"values\": {\n",
    "                    \"cat\": 0.2,\n",
    "                    \"dog\": 0.6\n",
    "                },\n",
    "                \"nan\": 0.1\n",
    "            }\n",
    "            \n",
    "        }\n",
    "\n",
    "    }\n",
    "}\n"
   ]
  },
  {
   "cell_type": "markdown",
   "metadata": {},
   "source": [
    "# The analysis module\n"
   ]
  },
  {
   "cell_type": "code",
   "execution_count": 10,
   "metadata": {
    "collapsed": true
   },
   "outputs": [],
   "source": [
    "class DatasetAnalyzer():\n",
    "    \n",
    "    def __init__(self, ds):\n",
    "        self.dataset = ds\n",
    "    def get_stats(self, dataset):\n",
    "        stats = {}\n",
    "        for c in dataset.columns:\n",
    "            #for every column save on the \n",
    "            stats.column_stats[c] = globals()[self.knowledge.column_stats[c].metric](dataset[c].values)\n",
    "        for k in self.knowledge.dataset_stats:\n",
    "            stats.dataset_stats[k] = globals()[self.knowledge.dataset_stats[k].metric](dataset)\n",
    "        \n",
    "        return stats\n",
    "    \n",
    "    def compare(self, dataset):\n",
    "        dataset_stats = get_stats(dataset)\n",
    "    "
   ]
  },
  {
   "cell_type": "markdown",
   "metadata": {},
   "source": [
    "# Report generation"
   ]
  },
  {
   "cell_type": "code",
   "execution_count": null,
   "metadata": {
    "collapsed": true
   },
   "outputs": [],
   "source": []
  }
 ],
 "metadata": {
  "kernelspec": {
   "display_name": "Python 3",
   "language": "python",
   "name": "python3"
  },
  "language_info": {
   "codemirror_mode": {
    "name": "ipython",
    "version": 3
   },
   "file_extension": ".py",
   "mimetype": "text/x-python",
   "name": "python",
   "nbconvert_exporter": "python",
   "pygments_lexer": "ipython3",
   "version": "3.6.3"
  }
 },
 "nbformat": 4,
 "nbformat_minor": 2
}
